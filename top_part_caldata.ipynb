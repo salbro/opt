{
 "cells": [
  {
   "cell_type": "code",
   "execution_count": 38,
   "metadata": {},
   "outputs": [],
   "source": [
    "using JuMP, Gurobi\n",
    "# Pkg.add(\"Combinatorics\")\n",
    "using Combinatorics\n"
   ]
  },
  {
   "cell_type": "code",
   "execution_count": 39,
   "metadata": {},
   "outputs": [
    {
     "data": {
      "text/html": [
       "10"
      ],
      "text/plain": [
       "10"
      ]
     },
     "execution_count": 39,
     "metadata": {},
     "output_type": "execute_result"
    }
   ],
   "source": [
    "caldata_demand = Dict(\"A\" => Dict(\"B\" => 38000, \"D\"=>7000, \"E\"=> 5000),\n",
    "    \"B\" => Dict( \"D\"=>19000, \"C\"=> 1000, \"A\"=>42000, \"E\"=>7000),\n",
    "    \"D\" => Dict(\"C\"=>1000, \"A\"=>12000),\n",
    "    \"C\" => Dict(\"A\"=>1000)\n",
    ");\n",
    "\n",
    "# demands[\"AB\"] = n units to send FROM A TO B\n",
    "demands = Dict()\n",
    "for hub in keys(caldata_demand)\n",
    "    for other_hub in keys(caldata_demand[hub])\n",
    "        d = caldata_demand[hub][other_hub]\n",
    "        demands[hub*other_hub] = d\n",
    "    end\n",
    "end\n",
    "\n",
    "commodity_keys = collect(keys(demands))\n",
    "demand_vector = zeros(1:length(demands))\n",
    "commodities = Dict()\n",
    "for (i, key) in enumerate(commodity_keys)\n",
    "    commodities[i] = key\n",
    "    demand_vector[i] = demands[key]\n",
    "end\n",
    "\n",
    "# commodity_keys = [1,2,3,...10]\n",
    "# demand vector = [38000, 7000, ...]\n",
    "# commodities = {1: \"AB\", ... , 10:\"AE\"}\n",
    "\n",
    "n_commodities = length(commodities)\n",
    "n_commodities"
   ]
  },
  {
   "cell_type": "code",
   "execution_count": 40,
   "metadata": {},
   "outputs": [
    {
     "data": {
      "text/plain": [
       "Dict{Any,Any} with 10 entries:\n",
       "  \"BE\" => 7000\n",
       "  \"AE\" => 5000\n",
       "  \"DC\" => 1000\n",
       "  \"CA\" => 1000\n",
       "  \"AD\" => 7000\n",
       "  \"BC\" => 1000\n",
       "  \"BD\" => 19000\n",
       "  \"DA\" => 12000\n",
       "  \"BA\" => 42000\n",
       "  \"AB\" => 38000"
      ]
     },
     "execution_count": 40,
     "metadata": {},
     "output_type": "execute_result"
    }
   ],
   "source": [
    "demands"
   ]
  },
  {
   "cell_type": "code",
   "execution_count": 41,
   "metadata": {},
   "outputs": [],
   "source": [
    "adm_cost_per_unit_data = 2;\n",
    "bbdx_cost_per_unit_data = 4; # plus 2 for each ADM\n",
    "bidirectional_arc_capacity = 24000; \n",
    "adm_capacity = 48000; # because each ADM is attached to two arcs\n",
    "adm_cost = 1000000;"
   ]
  },
  {
   "cell_type": "code",
   "execution_count": 42,
   "metadata": {},
   "outputs": [],
   "source": [
    "function flowcost(hub1hub2)\n",
    "    if hub1hub2 in [\"BD\", \"DB\", \"DE\", \"ED\", \"EB\", \"BE\", \"BA\", \"AB\", \"AC\", \"CA\", \"CE\", \"EC\"]\n",
    "        return 1\n",
    "    else\n",
    "        return 0\n",
    "    end\n",
    "end;"
   ]
  },
  {
   "cell_type": "code",
   "execution_count": 43,
   "metadata": {},
   "outputs": [],
   "source": [
    "function hasbbdx(hub)\n",
    "    return ! (hub == \"C\" || hub==\"F\" || hub ==\"G\" || hub==\"I\" || hub==\"M\")\n",
    "end;"
   ]
  },
  {
   "cell_type": "code",
   "execution_count": 44,
   "metadata": {},
   "outputs": [],
   "source": [
    "type_0_nodes = [\"A\", \"B\", \"C\", \"D\", \"E\"];\n",
    "cycles = Dict(\"ABEC\"=>4, \"BDE\"=>2);"
   ]
  },
  {
   "cell_type": "code",
   "execution_count": 45,
   "metadata": {},
   "outputs": [],
   "source": [
    "# n_type_1_nodes = 63\n",
    "# n_type_0_nodes = 14\n",
    "\n",
    "node_indices_to_descriptions = Dict()\n",
    "index = 1\n",
    "# for t0node in type_0_nodes\n",
    "#     node_indices_to_descriptions[index] = \"hub_\" * t0node\n",
    "#     index += 1\n",
    "# end\n",
    "\n",
    "for cycle in keys(cycles)\n",
    "    for hub in cycle\n",
    "        for ring in 1:cycles[cycle]\n",
    "            node_indices_to_descriptions[index] = \"hub_\" * hub * \"_cycle_\" * cycle * \"_ring_\" * string(ring)\n",
    "            index += 1\n",
    "        end\n",
    "    end\n",
    "end"
   ]
  },
  {
   "cell_type": "code",
   "execution_count": 46,
   "metadata": {},
   "outputs": [
    {
     "data": {
      "text/plain": [
       "Dict{Any,Any} with 5 entries:\n",
       "  \"B\" => String[\"ABEC\", \"BDE\"]\n",
       "  \"A\" => String[\"ABEC\"]\n",
       "  \"C\" => String[\"ABEC\"]\n",
       "  \"D\" => String[\"BDE\"]\n",
       "  \"E\" => String[\"ABEC\", \"BDE\"]"
      ]
     },
     "execution_count": 46,
     "metadata": {},
     "output_type": "execute_result"
    }
   ],
   "source": [
    "hubs_to_cycles = Dict()\n",
    "for cycle in keys(cycles)\n",
    "    for hub in cycle\n",
    "        if string(hub) in keys(hubs_to_cycles)\n",
    "            push!(hubs_to_cycles[string(hub)], cycle)\n",
    "        else\n",
    "            hubs_to_cycles[string(hub)] = [cycle]\n",
    "        end\n",
    "    end\n",
    "end\n",
    "hubs_to_cycles"
   ]
  },
  {
   "cell_type": "code",
   "execution_count": 47,
   "metadata": {},
   "outputs": [
    {
     "data": {
      "text/html": [
       "22"
      ],
      "text/plain": [
       "22"
      ]
     },
     "execution_count": 47,
     "metadata": {},
     "output_type": "execute_result"
    }
   ],
   "source": [
    "num_nodes = length(node_indices_to_descriptions)\n",
    "n_type_1_nodes = num_nodes"
   ]
  },
  {
   "cell_type": "code",
   "execution_count": 48,
   "metadata": {},
   "outputs": [],
   "source": [
    "node_descriptions_to_indices = Dict()\n",
    "for k in keys(node_indices_to_descriptions)\n",
    "   node_descriptions_to_indices[node_indices_to_descriptions[k]] = k \n",
    "end"
   ]
  },
  {
   "cell_type": "code",
   "execution_count": 49,
   "metadata": {},
   "outputs": [],
   "source": [
    "# node_descriptions_to_indices"
   ]
  },
  {
   "cell_type": "markdown",
   "metadata": {},
   "source": [
    "### Arcs"
   ]
  },
  {
   "cell_type": "code",
   "execution_count": 50,
   "metadata": {},
   "outputs": [
    {
     "name": "stdout",
     "output_type": "stream",
     "text": [
      "after type 0 and 1: 45\n",
      "after type 2: 89\n"
     ]
    },
    {
     "data": {
      "text/html": [
       "162"
      ],
      "text/plain": [
       "162"
      ]
     },
     "execution_count": 50,
     "metadata": {},
     "output_type": "execute_result"
    }
   ],
   "source": [
    "arc_indices_to_descriptions = Dict()\n",
    "arc_descriptions_to_indices = Dict()\n",
    "\n",
    "ind = 1\n",
    "# type 0 and type 1 arcs: from each hub to ring, and from each ring to the hub, respectively\n",
    "for hub in type_0_nodes\n",
    "    for cycle in hubs_to_cycles[hub]\n",
    "        for ring in 1:cycles[cycle]\n",
    "            # from city to ring\n",
    "            arc_indices_to_descriptions[ind] = \"hub_\" * hub * \"_to_hub_\" * hub * \"_cycle_\" *\n",
    "                                        cycle * \"_ring_\" * string(ring)\n",
    "            ind += 1\n",
    "            # from ring to city\n",
    "            arc_indices_to_descriptions[ind] = \"hub_\" * hub * \"_cycle_\" * cycle * \"_ring_\" * \n",
    "                                        string(ring) * \"_to_hub_\" * hub\n",
    "            ind += 1\n",
    "        end\n",
    "    end\n",
    "end\n",
    "\n",
    "\n",
    "println(\"after type 0 and 1: \"*string(ind))\n",
    "# type 2 arcs: one hub to the next along a ring (bidirectional, not symmetric)\n",
    "for cycle in keys(cycles)\n",
    "    for ring in 1:cycles[cycle]\n",
    "        for i in 1:(length(cycle)-1)\n",
    "            from_hub = cycle[i]\n",
    "            to_hub = cycle[i+1]\n",
    "            arc_indices_to_descriptions[ind] = \"hub_\" * string(from_hub) * \"_cycle_\" * cycle * \"_ring_\" * \n",
    "                    string(ring) * \"_to_hub_\" * to_hub * \"_cycle_\" * cycle * \"_ring_\" * string(ring)\n",
    "            ind += 1\n",
    "            arc_indices_to_descriptions[ind] = \"hub_\" * to_hub * \"_cycle_\" * cycle * \"_ring_\" * string(ring) * \n",
    "                                    \"_to_hub_\" * from_hub * \"_cycle_\" * cycle * \"_ring_\" * string(ring)\n",
    "            ind += 1\n",
    "        end\n",
    "        arc_indices_to_descriptions[ind] = \"hub_\" * cycle[1] * \"_cycle_\" * cycle * \"_ring_\" * string(ring) * \n",
    "                            \"_to_hub_\" * cycle[end] * \"_cycle_\" * cycle * \"_ring_\" * string(ring)\n",
    "        ind += 1\n",
    "        \n",
    "        arc_indices_to_descriptions[ind] = \"hub_\" * cycle[end] * \"_cycle_\" * cycle * \"_ring_\" * string(ring) * \n",
    "                        \"_to_hub_\" * cycle[1] * \"_cycle_\" * cycle * \"_ring_\" * string(ring)\n",
    "        ind += 1\n",
    "    end\n",
    "end\n",
    "\n",
    "\n",
    "println(\"after type 2: \"*string(ind))\n",
    "\n",
    "# type 3 arcs: These go from one ring to another at a hub that has a BBDX. \n",
    "# Any commodity may flow on these arcs, but only if an ADM is installed at the hub on both rings. \n",
    "for hub in type_0_nodes\n",
    "    ### TODO: FIX THIS! WRONG LOGIC?? ###\n",
    "    \n",
    "    \n",
    "    if !hasbbdx(hub)\n",
    "        continue ### change this to a constraint of zero?\n",
    "    end\n",
    "    \n",
    "    cycles_at_hub = hubs_to_cycles[hub]\n",
    "    for cycle_num in 1:length(cycles_at_hub)\n",
    "        # in-cycle transfers: across rings\n",
    "        for pair in collect(combinations(collect(1:cycles[cycles_at_hub[cycle_num]]), 2))\n",
    "            ring1, ring2 = pair\n",
    "#             println(hub * \": \" * string(cycle_num) * \": \"* string(ring1) * string(ring2))\n",
    "            arc_indices_to_descriptions[ind] = \"hub_\"*hub*\"_cycle_\"*cycles_at_hub[cycle_num]*\"_ring_\"*string(ring1) *\n",
    "                                                        \"_to_hub_\"*hub*\"_cycle_\"*cycles_at_hub[cycle_num]*\"_ring_\"*string(ring2)\n",
    "            ind += 1\n",
    "            arc_indices_to_descriptions[ind] = \"hub_\"*hub*\"_cycle_\"*cycles_at_hub[cycle_num]*\"_ring_\"*string(ring2) *\n",
    "                                                        \"_to_hub_\"*hub*\"_cycle_\"*cycles_at_hub[cycle_num]*\"_ring_\"*string(ring1)\n",
    "            ind += 1\n",
    "        end\n",
    "\n",
    "        # out-of-cycle transfers\n",
    "        for other_cycle_num in append!(collect(1:cycle_num-1), collect(cycle_num+1:length(cycles_at_hub)))\n",
    "            # for each ring in THIS cycle, make a link to the other ring in other cycles\n",
    "            for ring in 1:cycles[cycles_at_hub[cycle_num]]\n",
    "                for other_ring in 1:cycles[cycles_at_hub[other_cycle_num]]\n",
    "                    if cycle_num == other_cycle_num\n",
    "                        print(cycle_num)\n",
    "                    end\n",
    "\n",
    "                    arc_indices_to_descriptions[ind] = \"hub_\"*hub*\"_cycle_\"*cycles_at_hub[cycle_num]*\"_ring_\"*\n",
    "                                                        string(ring) * \"_to_hub_\"*hub*\"_cycle_\"*\n",
    "                                                        cycles_at_hub[other_cycle_num]*\"_ring_\"*string(other_ring)\n",
    "                    ind += 1\n",
    "                end\n",
    "            end\n",
    "        end\n",
    "    end\n",
    "end\n",
    "   \n",
    "\n",
    "\n",
    "for k in keys(arc_indices_to_descriptions)\n",
    "   arc_descriptions_to_indices[arc_indices_to_descriptions[k]] = k \n",
    "end\n",
    "\n",
    "num_arcs = length(arc_indices_to_descriptions)"
   ]
  },
  {
   "cell_type": "code",
   "execution_count": 51,
   "metadata": {},
   "outputs": [
    {
     "data": {
      "text/html": [
       "24000"
      ],
      "text/plain": [
       "24000"
      ]
     },
     "execution_count": 51,
     "metadata": {},
     "output_type": "execute_result"
    }
   ],
   "source": [
    "caldata = Model(solver=GurobiSolver())\n",
    "BIGM = 24000 # the max arc capacity"
   ]
  },
  {
   "cell_type": "markdown",
   "metadata": {},
   "source": [
    "### Decision Variables\n",
    "- how much data to send on each arc\n",
    "- where to locate the ADMs"
   ]
  },
  {
   "cell_type": "code",
   "execution_count": 52,
   "metadata": {},
   "outputs": [
    {
     "data": {
      "text/latex": [
       "$$ arcflows_{i,j} \\geq 0 \\quad\\forall i \\in \\{1,2,\\dots,161,162\\}, j \\in \\{1,2,\\dots,9,10\\} $$"
      ],
      "text/plain": [
       "162×10 Array{JuMP.Variable,2}:\n",
       " arcflows[1,1]    arcflows[1,2]    …  arcflows[1,9]    arcflows[1,10]  \n",
       " arcflows[2,1]    arcflows[2,2]       arcflows[2,9]    arcflows[2,10]  \n",
       " arcflows[3,1]    arcflows[3,2]       arcflows[3,9]    arcflows[3,10]  \n",
       " arcflows[4,1]    arcflows[4,2]       arcflows[4,9]    arcflows[4,10]  \n",
       " arcflows[5,1]    arcflows[5,2]       arcflows[5,9]    arcflows[5,10]  \n",
       " arcflows[6,1]    arcflows[6,2]    …  arcflows[6,9]    arcflows[6,10]  \n",
       " arcflows[7,1]    arcflows[7,2]       arcflows[7,9]    arcflows[7,10]  \n",
       " arcflows[8,1]    arcflows[8,2]       arcflows[8,9]    arcflows[8,10]  \n",
       " arcflows[9,1]    arcflows[9,2]       arcflows[9,9]    arcflows[9,10]  \n",
       " arcflows[10,1]   arcflows[10,2]      arcflows[10,9]   arcflows[10,10] \n",
       " arcflows[11,1]   arcflows[11,2]   …  arcflows[11,9]   arcflows[11,10] \n",
       " arcflows[12,1]   arcflows[12,2]      arcflows[12,9]   arcflows[12,10] \n",
       " arcflows[13,1]   arcflows[13,2]      arcflows[13,9]   arcflows[13,10] \n",
       " ⋮                                 ⋱                                   \n",
       " arcflows[151,1]  arcflows[151,2]  …  arcflows[151,9]  arcflows[151,10]\n",
       " arcflows[152,1]  arcflows[152,2]     arcflows[152,9]  arcflows[152,10]\n",
       " arcflows[153,1]  arcflows[153,2]     arcflows[153,9]  arcflows[153,10]\n",
       " arcflows[154,1]  arcflows[154,2]     arcflows[154,9]  arcflows[154,10]\n",
       " arcflows[155,1]  arcflows[155,2]     arcflows[155,9]  arcflows[155,10]\n",
       " arcflows[156,1]  arcflows[156,2]  …  arcflows[156,9]  arcflows[156,10]\n",
       " arcflows[157,1]  arcflows[157,2]     arcflows[157,9]  arcflows[157,10]\n",
       " arcflows[158,1]  arcflows[158,2]     arcflows[158,9]  arcflows[158,10]\n",
       " arcflows[159,1]  arcflows[159,2]     arcflows[159,9]  arcflows[159,10]\n",
       " arcflows[160,1]  arcflows[160,2]     arcflows[160,9]  arcflows[160,10]\n",
       " arcflows[161,1]  arcflows[161,2]  …  arcflows[161,9]  arcflows[161,10]\n",
       " arcflows[162,1]  arcflows[162,2]     arcflows[162,9]  arcflows[162,10]"
      ]
     },
     "execution_count": 52,
     "metadata": {},
     "output_type": "execute_result"
    }
   ],
   "source": [
    "@variable(caldata, arcflows[1:num_arcs, 1:n_commodities] >= 0)"
   ]
  },
  {
   "cell_type": "code",
   "execution_count": 53,
   "metadata": {},
   "outputs": [
    {
     "data": {
      "text/latex": [
       "$$ adms_{i} \\in \\{0,1\\} \\quad\\forall i \\in \\{1,2,\\dots,21,22\\} $$"
      ],
      "text/plain": [
       "22-element Array{JuMP.Variable,1}:\n",
       " adms[1] \n",
       " adms[2] \n",
       " adms[3] \n",
       " adms[4] \n",
       " adms[5] \n",
       " adms[6] \n",
       " adms[7] \n",
       " adms[8] \n",
       " adms[9] \n",
       " adms[10]\n",
       " adms[11]\n",
       " adms[12]\n",
       " adms[13]\n",
       " adms[14]\n",
       " adms[15]\n",
       " adms[16]\n",
       " adms[17]\n",
       " adms[18]\n",
       " adms[19]\n",
       " adms[20]\n",
       " adms[21]\n",
       " adms[22]"
      ]
     },
     "execution_count": 53,
     "metadata": {},
     "output_type": "execute_result"
    }
   ],
   "source": [
    "@variable(caldata, adms[1:n_type_1_nodes], Bin)"
   ]
  },
  {
   "cell_type": "markdown",
   "metadata": {},
   "source": [
    "### Constraints"
   ]
  },
  {
   "cell_type": "code",
   "execution_count": 54,
   "metadata": {},
   "outputs": [],
   "source": [
    "# • The total bi-directional flow on an arc (the sum of the two directions) can be no more than the\n",
    "# bi-directional capacity.\n",
    "for cycle in keys(cycles)\n",
    "    for ring in 1:cycles[cycle]\n",
    "        for i in 1:(length(cycle)-1)\n",
    "            from_hub = cycle[i]\n",
    "            to_hub = cycle[i+1]\n",
    "            direction_1_key = arc_indices_to_descriptions[ind] = \"hub_\" * string(from_hub) * \"_cycle_\" * cycle * \"_ring_\" * \n",
    "                    string(ring) * \"_to_hub_\" * to_hub * \"_cycle_\" * cycle * \"_ring_\" * string(ring)\n",
    "            direction_2_key = arc_indices_to_descriptions[ind] = \"hub_\" * to_hub * \"_cycle_\" * cycle * \"_ring_\" * string(ring) * \n",
    "                                    \"_to_hub_\" * from_hub * \"_cycle_\" * cycle * \"_ring_\" * string(ring)\n",
    "            \n",
    "#             println(arc_descriptions_to_indices[direction_1_key], \": \", arc_descriptions_to_indices[direction_2_key])\n",
    "            @constraint(caldata, [i=1:length(arcflows)], \n",
    "                sum(arcflows[arc_descriptions_to_indices[direction_1_key],j]\n",
    "                + arcflows[arc_descriptions_to_indices[direction_2_key],j] for j in 1:n_commodities)\n",
    "                <= bidirectional_arc_capacity)\n",
    "            \n",
    "        end\n",
    "        \n",
    "        from_hub = cycle[1]\n",
    "        to_hub = cycle[end]\n",
    "        direction_1_key = arc_indices_to_descriptions[ind] = \"hub_\" * string(from_hub) * \"_cycle_\" * cycle * \"_ring_\" * \n",
    "                string(ring) * \"_to_hub_\" * to_hub * \"_cycle_\" * cycle * \"_ring_\" * string(ring)\n",
    "        direction_2_key = arc_indices_to_descriptions[ind] = \"hub_\" * to_hub * \"_cycle_\" * cycle * \"_ring_\" * string(ring) * \n",
    "                                \"_to_hub_\" * from_hub * \"_cycle_\" * cycle * \"_ring_\" * string(ring)\n",
    "\n",
    "        @constraint(caldata, [i=1:length(arcflows)], \n",
    "            sum(arcflows[arc_descriptions_to_indices[direction_1_key], j]\n",
    "            + arcflows[arc_descriptions_to_indices[direction_2_key], j] for j in 1:n_commodities)\n",
    "            <= bidirectional_arc_capacity)\n",
    "    end\n",
    "end\n",
    "\n",
    "# No commodities may flow on a Type 0 arc unless their destination is at that hub.\n",
    "for hub in type_0_nodes\n",
    "    for cycle in hubs_to_cycles[hub]\n",
    "        for ring in 1:cycles[cycle]\n",
    "            # from ring to city (type 0)\n",
    "            for j in 1:n_commodities\n",
    "                if ! endswith(commodities[j], hub)\n",
    "                    arc_key = \"hub_\" * hub * \"_cycle_\" * cycle * \"_ring_\" * string(ring) * \"_to_hub_\" * hub\n",
    "                    @constraint(caldata, arcflows[arc_descriptions_to_indices[arc_key],j] == 0)\n",
    "                end\n",
    "            end\n",
    "        end\n",
    "    end\n",
    "end\n",
    "\n",
    "# • No commodities may flow on a Type 1 arc unless their origin is at that hub.\n",
    "for hub in type_0_nodes\n",
    "    for cycle in hubs_to_cycles[hub]\n",
    "        for ring in 1:cycles[cycle]\n",
    "            # from ring to city (type 0)\n",
    "            node_descriptions_to_indices\n",
    "            for j in 1:n_commodities\n",
    "                if ! startswith(commodities[j], hub)\n",
    "                    arc_key = \"hub_\" * hub * \"_to_hub_\" * hub * \"_cycle_\" * cycle * \"_ring_\" * string(ring)\n",
    "                    @constraint(caldata, arcflows[arc_descriptions_to_indices[arc_key],j] == 0)\n",
    "                end\n",
    "            end\n",
    "        end\n",
    "    end\n",
    "end\n",
    "\n",
    "\n",
    "# No commodities may flow on a Type 0 (city to ring) arc unless an ADM is installed on that ring at that hub.\n",
    "# No commodities may flow on a Type 1 (ring to city) arc unless an ADM is installed on that ring at that hub.\n",
    "for hub in type_0_nodes\n",
    "    for cycle in hubs_to_cycles[hub]\n",
    "        for ring in 1:cycles[cycle]\n",
    "            type_0_arc_key = \"hub_\" * hub * \"_cycle_\" * cycle * \"_ring_\" * string(ring) * \"_to_hub_\" * hub\n",
    "            type_1_arc_key = \"hub_\" * hub * \"_to_hub_\" * hub * \"_cycle_\" * cycle * \"_ring_\" * string(ring)\n",
    "            node_key = \"hub_\" * hub * \"_cycle_\" * cycle * \"_ring_\" * string(ring)\n",
    "            for j in 1:n_commodities\n",
    "                \n",
    "                @constraint(caldata, arcflows[arc_descriptions_to_indices[type_0_arc_key],j]\n",
    "                    <= adms[node_descriptions_to_indices[node_key]]*BIGM)\n",
    "                \n",
    "                @constraint(caldata, arcflows[arc_descriptions_to_indices[type_1_arc_key],j]\n",
    "                    <= adms[node_descriptions_to_indices[node_key]]*BIGM)\n",
    "                \n",
    "            end\n",
    "        end\n",
    "    end\n",
    "end"
   ]
  },
  {
   "cell_type": "code",
   "execution_count": 55,
   "metadata": {},
   "outputs": [],
   "source": [
    "# No commodities may flow on a Type 3 arc unless an ADM is installed at that hub on both rings.\n",
    "for hub in type_0_nodes\n",
    "    if !hasbbdx(hub)\n",
    "        continue\n",
    "    end\n",
    "    \n",
    "    cycles_at_hub = hubs_to_cycles[hub]\n",
    "    for cycle_num in 1:length(cycles_at_hub)\n",
    "        # in-cycle transfers: across rings\n",
    "        for pair in collect(combinations(collect(1:cycles[cycles_at_hub[cycle_num]]), 2))\n",
    "            ring1, ring2 = pair\n",
    "            arc_key_dir1 = \"hub_\"*hub*\"_cycle_\"*cycles_at_hub[cycle_num]*\"_ring_\"*string(ring1) *\n",
    "                                                        \"_to_hub_\"*hub*\"_cycle_\"*cycles_at_hub[cycle_num]*\"_ring_\"*string(ring2)\n",
    "            arc_key_dir2 = \"hub_\"*hub*\"_cycle_\"*cycles_at_hub[cycle_num]*\"_ring_\"*string(ring2) *\n",
    "                                                        \"_to_hub_\"*hub*\"_cycle_\"*cycles_at_hub[cycle_num]*\"_ring_\"*string(ring1)\n",
    "            \n",
    "            ring_key_one = \"hub_\"*hub*\"_cycle_\"*cycles_at_hub[cycle_num]*\"_ring_\"*string(ring2)\n",
    "            ring_key_two = \"hub_\"*hub*\"_cycle_\"*cycles_at_hub[cycle_num]*\"_ring_\"*string(ring1)\n",
    "            \n",
    "            for j in 1:n_commodities \n",
    "                @constraint(caldata, arcflows[arc_descriptions_to_indices[arc_key_dir1],j]\n",
    "                        <= adms[node_descriptions_to_indices[ring_key_one]]*BIGM)\n",
    "                @constraint(caldata, arcflows[arc_descriptions_to_indices[arc_key_dir1],j]\n",
    "                        <= adms[node_descriptions_to_indices[ring_key_two]]*BIGM)\n",
    "                \n",
    "                \n",
    "                @constraint(caldata, arcflows[arc_descriptions_to_indices[arc_key_dir2],j]\n",
    "                        <= adms[node_descriptions_to_indices[ring_key_one]]*BIGM)\n",
    "                @constraint(caldata, arcflows[arc_descriptions_to_indices[arc_key_dir2],j]\n",
    "                        <= adms[node_descriptions_to_indices[ring_key_two]]*BIGM)\n",
    "\n",
    "            end\n",
    "        \n",
    "        end\n",
    "\n",
    "        # out-of-cycle transfers\n",
    "        for other_cycle_num in append!(collect(1:cycle_num-1), collect(cycle_num+1:length(cycles_at_hub)))\n",
    "            # for each ring in THIS cycle, make a link to the other ring in other cycles\n",
    "            for ring in 1:cycles[cycles_at_hub[cycle_num]]\n",
    "                for other_ring in 1:cycles[cycles_at_hub[other_cycle_num]]                        \n",
    "                    ring_key_one = \"hub_\"*hub*\"_cycle_\"*cycles_at_hub[cycle_num]*\"_ring_\"*string(ring)\n",
    "                    ring_key_two = \"hub_\"*hub*\"_cycle_\"* cycles_at_hub[other_cycle_num]*\"_ring_\"*string(other_ring)\n",
    "                    arc_key = \"hub_\"*hub*\"_cycle_\"*cycles_at_hub[cycle_num]*\"_ring_\"*\n",
    "                                                        string(ring) * \"_to_hub_\"*hub*\"_cycle_\"*\n",
    "                                                        cycles_at_hub[other_cycle_num]*\"_ring_\"*string(other_ring)\n",
    "                    for j in 1:n_commodities\n",
    "                        @constraint(caldata, arcflows[arc_descriptions_to_indices[arc_key],j]\n",
    "                                    <= adms[node_descriptions_to_indices[ring_key_one]]*BIGM)\n",
    "                        \n",
    "                        @constraint(caldata, arcflows[arc_descriptions_to_indices[arc_key],j]\n",
    "                                    <= adms[node_descriptions_to_indices[ring_key_two]]*BIGM)\n",
    "                    end\n",
    "                end\n",
    "            end\n",
    "        end\n",
    "    end\n",
    "end"
   ]
  },
  {
   "cell_type": "code",
   "execution_count": 56,
   "metadata": {},
   "outputs": [],
   "source": [
    "# The total flow of each commodity into its destination hub (i.e., into a Type 0 node on Type 0\n",
    "# arcs) must equal the demand for that commodity.\n",
    "for hub in type_0_nodes\n",
    "    for j in 1:n_commodities\n",
    "        # if the hub is the destination of the jth commodity\n",
    "        if endswith(commodities[j], hub)\n",
    "            # get the indices of the 0-arcs going into hub from all rings, from all cycles\n",
    "            arc_inds = []\n",
    "            for c in hubs_to_cycles[string(hub)]\n",
    "                for ring in 1:cycles[c]\n",
    "                    arc_desc = \"hub_\"*hub*\"_cycle_\"*c*\"_ring_\"*string(ring)*\"_to_hub_\"*hub\n",
    "                    arc_ind = arc_descriptions_to_indices[arc_desc]\n",
    "                    push!(arc_inds, arc_ind)\n",
    "                end\n",
    "            end\n",
    "            # the sum of all those arcs, for the jth commodity, should be equal to the demand of that commodity\n",
    "            @constraint(caldata, sum(arcflows[arc_ind, j] for arc_ind in arc_inds) == demands[commodities[j]])\n",
    "        end\n",
    "    end\n",
    "end"
   ]
  },
  {
   "cell_type": "code",
   "execution_count": 57,
   "metadata": {},
   "outputs": [],
   "source": [
    "# • The total flow of each commodity out of its origin hub (i.e., out of a Type 0 node on Type 1\n",
    "# arcs) must equal the demand for that commodity.\n",
    "for hub in type_0_nodes\n",
    "    for j in 1:n_commodities\n",
    "        # if the hub is the ORIGIN of the jth commodity\n",
    "        if startswith(commodities[j], hub)\n",
    "            # get the indices of the 0-arcs going into hub from all rings, from all cycles\n",
    "            arc_inds = []\n",
    "            for c in hubs_to_cycles[string(hub)]\n",
    "                for ring in 1:cycles[c]\n",
    "                    arc_desc = \"hub_\" * hub * \"_to_hub_\" * hub * \"_cycle_\" * c * \"_ring_\" * string(ring)                    \n",
    "                    arc_ind = arc_descriptions_to_indices[arc_desc]\n",
    "                    push!(arc_inds, arc_ind)\n",
    "                end\n",
    "            end\n",
    "            # the sum of all those arcs, for the jth commodity, should be equal to the demand of that commodity\n",
    "            @constraint(caldata, sum(arcflows[arc_ind, j] for arc_ind in arc_inds) == demands[commodities[j]])\n",
    "        end\n",
    "    end\n",
    "end"
   ]
  },
  {
   "cell_type": "code",
   "execution_count": 58,
   "metadata": {},
   "outputs": [],
   "source": [
    "# push!([[1 2 3]], [1 2 3])"
   ]
  },
  {
   "cell_type": "code",
   "execution_count": 59,
   "metadata": {},
   "outputs": [],
   "source": [
    "# The total flow of each commodity into each Type 1 node must equal the total flow of that\n",
    "# commodity out of that Type 1 node\n",
    "inds_for_ring_switching_arcs = []\n",
    "inds_for_entering_or_leaving_network = []\n",
    "\n",
    "for (hub_i, hub) in collect(enumerate(type_0_nodes))\n",
    "    cycles_at_hub = hubs_to_cycles[hub]\n",
    "    for (cycle_i, cycle) in collect(enumerate(cycles_at_hub))\n",
    "        for ring in 1:cycles[cycle]\n",
    "            arc_inds_in, arc_inds_out = [], []\n",
    "            # get everything into it (type 1, 2, and 3 arc)\n",
    "            \n",
    "            # IN: type 1 arc (city to ring)\n",
    "            arc = \"hub_\" * hub * \"_to_hub_\" * hub * \"_cycle_\" * cycle * \"_ring_\" * string(ring)\n",
    "            push!(arc_inds_in, arc_descriptions_to_indices[arc])  \n",
    "            \n",
    "            push!(inds_for_entering_or_leaving_network, arc_descriptions_to_indices[arc])\n",
    "            \n",
    "            # OUT: type 0 arc (ring to city)\n",
    "            arc = \"hub_\" * hub * \"_cycle_\" * cycle *\"_ring_\" * string(ring) * \"_to_hub_\" * hub\n",
    "            push!(arc_inds_out, arc_descriptions_to_indices[arc]) \n",
    "            \n",
    "            push!(inds_for_entering_or_leaving_network, arc_descriptions_to_indices[arc])\n",
    "\n",
    "            \n",
    "            # type 2 arcs (from an adjacent hub, but on the same ring)\n",
    "            hub_index_in_cycle = search(cycle, hub)[1]\n",
    "            if hub == string(cycle[1]) ### C\n",
    "                neighboring_hub_left = cycle[end]\n",
    "            else\n",
    "                neighboring_hub_left = cycle[hub_index_in_cycle - 1]\n",
    "            end\n",
    "\n",
    "            \n",
    "            if hub == string(cycle[end])\n",
    "                neighboring_hub_right = cycle[1]\n",
    "            else\n",
    "                neighboring_hub_right = cycle[hub_index_in_cycle + 1]\n",
    "            end\n",
    "            \n",
    "            \n",
    "            # IN: type 2 arc, neighbor left\n",
    "            arc = \"hub_\" * neighboring_hub_left * \"_cycle_\" * cycle * \"_ring_\" * \n",
    "                    string(ring) * \"_to_hub_\" * hub * \"_cycle_\" * cycle *\n",
    "                    \"_ring_\" * string(ring)\n",
    "            \n",
    "            push!(arc_inds_in, arc_descriptions_to_indices[arc]) \n",
    "\n",
    "            # OUT: type 2 arc, neighbor left\n",
    "            arc = \"hub_\" * hub * \"_cycle_\" * cycle * \"_ring_\" * string(ring) * \"_to_hub_\" * neighboring_hub_left * \"_cycle_\" * cycle*\n",
    "                    \"_ring_\" * string(ring)\n",
    "            push!(arc_inds_out, arc_descriptions_to_indices[arc])\n",
    "            \n",
    "            # IN: type 2 arc, neighbor right\n",
    "            arc = \"hub_\" * neighboring_hub_right * \"_cycle_\" * cycle * \"_ring_\" * \n",
    "                    string(ring) * \"_to_hub_\" * hub * \"_cycle_\" * cycle *\n",
    "                    \"_ring_\" * string(ring)\n",
    "            push!(arc_inds_in, arc_descriptions_to_indices[arc])\n",
    "            \n",
    "            # OUT: type 2 arc, neighbor right\n",
    "            arc = \"hub_\" * hub * \"_cycle_\" * cycle * \"_ring_\" * \n",
    "                                string(ring) * \"_to_hub_\" * neighboring_hub_right * \"_cycle_\" * cycle *\n",
    "                                \"_ring_\" * string(ring)\n",
    "            push!(arc_inds_out, arc_descriptions_to_indices[arc])\n",
    "            \n",
    "\n",
    "            # type 3 arcs (switching rings) - only if BBDX installed\n",
    "            if hasbbdx(hub)\n",
    "                for other_ring_same_cycle in 1:cycles[cycle]\n",
    "                    if ring == other_ring_same_cycle\n",
    "                        continue\n",
    "                    end\n",
    "                    # IN: in-cycle in-transfers: across rings\n",
    "                    arc = \"hub_\"*hub*\"_cycle_\"*cycle*\"_ring_\"*string(other_ring_same_cycle) *\n",
    "                                                                \"_to_hub_\"*hub*\"_cycle_\"*cycle*\n",
    "                                                        \"_ring_\"*string(ring)\n",
    "                    push!(arc_inds_in, arc_descriptions_to_indices[arc])\n",
    "                    push!(inds_for_ring_switching_arcs, arc_descriptions_to_indices[arc])\n",
    "\n",
    "                    # OUT: in-cycle in-transfers: from this ring to other ones\n",
    "                    arc = \"hub_\"*hub*\"_cycle_\"*cycle*\"_ring_\"*string(ring) *\n",
    "                                                                \"_to_hub_\"*hub*\"_cycle_\"*cycle*\n",
    "                                                        \"_ring_\"*string(other_ring_same_cycle)\n",
    "                    push!(arc_inds_out, arc_descriptions_to_indices[arc])\n",
    "                    push!(inds_for_ring_switching_arcs, arc_descriptions_to_indices[arc])\n",
    "\n",
    "                end\n",
    "\n",
    "                # out-of-cycle in-transfers\n",
    "                for other_cycle_num in append!(collect(1:cycle_i-1), collect(cycle_i+1:length(cycles_at_hub)))\n",
    "                    for other_ring in 1:cycles[cycles_at_hub[other_cycle_num]]\n",
    "                        # IN: out-of-cycle in-transfers: across rings\n",
    "                        arc = \"hub_\"*hub*\"_cycle_\"*cycles_at_hub[other_cycle_num]*\"_ring_\"*\n",
    "                                                            string(other_ring) * \"_to_hub_\"*hub*\"_cycle_\"*\n",
    "                                                            cycle*\"_ring_\"*string(ring)\n",
    "                        push!(arc_inds_in, arc_descriptions_to_indices[arc])\n",
    "                        push!(inds_for_ring_switching_arcs, arc_descriptions_to_indices[arc])\n",
    "\n",
    "                        # OUT: out-of-cycle in-transfers: from this ring to other ones\n",
    "                        arc = \"hub_\"*hub*\"_cycle_\"*cycle*\"_ring_\"*\n",
    "                                                            string(ring) * \"_to_hub_\"*hub*\"_cycle_\"*\n",
    "                                                            cycles_at_hub[other_cycle_num]*\"_ring_\"*string(other_ring)\n",
    "\n",
    "                        push!(arc_inds_out, arc_descriptions_to_indices[arc])\n",
    "                        push!(inds_for_ring_switching_arcs, arc_descriptions_to_indices[arc])\n",
    "                    end\n",
    "                end\n",
    "\n",
    "                @constraint(caldata,[j=1:n_commodities], sum(arcflows[i,j] for i in arc_inds_in)\n",
    "                                                        == sum(arcflows[k,j] for k in arc_inds_out))\n",
    "            end\n",
    "        end\n",
    "    end\n",
    "end"
   ]
  },
  {
   "cell_type": "code",
   "execution_count": 60,
   "metadata": {},
   "outputs": [],
   "source": [
    "all_adm_transfer_inds = vcat(inds_for_ring_switching_arcs, inds_for_entering_or_leaving_network);"
   ]
  },
  {
   "cell_type": "code",
   "execution_count": null,
   "metadata": {},
   "outputs": [],
   "source": []
  },
  {
   "cell_type": "code",
   "execution_count": 61,
   "metadata": {},
   "outputs": [
    {
     "data": {
      "text/html": [
       "44"
      ],
      "text/plain": [
       "44"
      ]
     },
     "execution_count": 61,
     "metadata": {},
     "output_type": "execute_result"
    }
   ],
   "source": [
    "# total flow cost for a commodity\n",
    "arcflow_type_2_indices = []\n",
    "unit_cost_arcflow_factors = []\n",
    "# type 2 arcs: one hub to the next along a ring (bidirectional, not symmetric)\n",
    "for cycle in keys(cycles)\n",
    "    for ring in 1:cycles[cycle]\n",
    "        for i in 1:(length(cycle)-1)\n",
    "            from_hub = cycle[i]\n",
    "            to_hub = cycle[i+1]\n",
    "            arc = \"hub_\" * string(from_hub) * \"_cycle_\" * cycle * \"_ring_\" * \n",
    "                    string(ring) * \"_to_hub_\" * to_hub * \"_cycle_\" * cycle * \"_ring_\" * string(ring)\n",
    "            \n",
    "            push!(arcflow_type_2_indices, arc_descriptions_to_indices[arc])\n",
    "            push!(unit_cost_arcflow_factors, flowcost(from_hub*to_hub))\n",
    "\n",
    "            \n",
    "             arc = \"hub_\" * to_hub * \"_cycle_\" * cycle * \"_ring_\" * string(ring) * \n",
    "                                    \"_to_hub_\" * from_hub * \"_cycle_\" * cycle * \"_ring_\" * string(ring)\n",
    "\n",
    "            push!(arcflow_type_2_indices, arc_descriptions_to_indices[arc])\n",
    "            push!(unit_cost_arcflow_factors, flowcost(from_hub*to_hub))\n",
    "        \n",
    "        end\n",
    "        arc = \"hub_\" * cycle[1] * \"_cycle_\" * cycle * \"_ring_\" * string(ring) * \n",
    "                            \"_to_hub_\" * cycle[end] * \"_cycle_\" * cycle * \"_ring_\" * string(ring)\n",
    "\n",
    "        push!(arcflow_type_2_indices, arc_descriptions_to_indices[arc])\n",
    "        push!(unit_cost_arcflow_factors, flowcost(cycle[1]*cycle[end]))\n",
    "        \n",
    "        arc = \"hub_\" * cycle[end] * \"_cycle_\" * cycle * \"_ring_\" * string(ring) * \n",
    "                        \"_to_hub_\" * cycle[1] * \"_cycle_\" * cycle * \"_ring_\" * string(ring)\n",
    "\n",
    "        push!(arcflow_type_2_indices, arc_descriptions_to_indices[arc])\n",
    "        push!(unit_cost_arcflow_factors, flowcost(cycle[end]*cycle[1]))\n",
    "    \n",
    "    end\n",
    "end\n",
    "\n",
    "num_arcs_type_2 = length(arcflow_type_2_indices)"
   ]
  },
  {
   "cell_type": "code",
   "execution_count": 62,
   "metadata": {},
   "outputs": [],
   "source": [
    "# arcflow_type_2_indices"
   ]
  },
  {
   "cell_type": "code",
   "execution_count": null,
   "metadata": {},
   "outputs": [],
   "source": []
  },
  {
   "cell_type": "code",
   "execution_count": 63,
   "metadata": {},
   "outputs": [
    {
     "data": {
      "text/html": [
       "0"
      ],
      "text/plain": [
       "0"
      ]
     },
     "execution_count": 63,
     "metadata": {},
     "output_type": "execute_result"
    }
   ],
   "source": [
    "flowcost(commodities[8])"
   ]
  },
  {
   "cell_type": "code",
   "execution_count": 64,
   "metadata": {},
   "outputs": [],
   "source": [
    "# the price of installing ADMs plus all the data that flows over them\n",
    "@objective(caldata, Min, 1e6*sum(adms[i] for i in 1:n_type_1_nodes) +\n",
    "                        2*sum(arcflows[i,j] for j in 1:n_commodities for i in all_adm_transfer_inds) +\n",
    "                sum(arcflows[arcflow_type_2_indices[i],j]*unit_cost_arcflow_factors[i] for j in 1:n_commodities \n",
    "                    for i in 1:num_arcs_type_2));\n"
   ]
  },
  {
   "cell_type": "code",
   "execution_count": 65,
   "metadata": {},
   "outputs": [
    {
     "name": "stdout",
     "output_type": "stream",
     "text": [
      "Academic license - for non-commercial use only\n",
      "Optimize a model with 38114 rows, 1642 columns and 719640 nonzeros\n",
      "Variable types: 1620 continuous, 22 integer (22 binary)\n",
      "Coefficient statistics:\n",
      "  Matrix range     [1e+00, 2e+04]\n",
      "  Objective range  [1e+00, 1e+06]\n",
      "  Bounds range     [1e+00, 1e+00]\n",
      "  RHS range        [1e+03, 4e+04]\n",
      "Presolve removed 36345 rows and 374 columns\n",
      "Presolve time: 0.27s\n",
      "Presolved: 1769 rows, 1268 columns, 5928 nonzeros\n",
      "Variable types: 1250 continuous, 18 integer (18 binary)\n",
      "\n",
      "Root relaxation: objective 7.353617e+06, 372 iterations, 0.01 seconds\n",
      "\n",
      "    Nodes    |    Current Node    |     Objective Bounds      |     Work\n",
      " Expl Unexpl |  Obj  Depth IntInf | Incumbent    BestBd   Gap | It/Node Time\n",
      "\n",
      "     0     0 7353616.85    0   18          - 7353616.85      -     -    0s\n",
      "H    0     0                    1.777400e+07 7353616.85  58.6%     -    0s\n",
      "     0     0 7655535.92    0   18 1.7774e+07 7655535.92  56.9%     -    0s\n",
      "     0     0 7992724.36    0   15 1.7774e+07 7992724.36  55.0%     -    0s\n",
      "     0     0 7995532.05    0   11 1.7774e+07 7995532.05  55.0%     -    0s\n",
      "     0     0 7996007.51    0   15 1.7774e+07 7996007.51  55.0%     -    0s\n",
      "     0     0 7996007.51    0   16 1.7774e+07 7996007.51  55.0%     -    0s\n",
      "     0     0 8024292.01    0   14 1.7774e+07 8024292.01  54.9%     -    0s\n",
      "     0     0 8024364.62    0   13 1.7774e+07 8024364.62  54.9%     -    0s\n",
      "     0     0 8025290.09    0   13 1.7774e+07 8025290.09  54.8%     -    0s\n",
      "H    0     0                    1.699468e+07 8025290.09  52.8%     -    0s\n",
      "     0     0 8025800.91    0   13 1.6995e+07 8025800.91  52.8%     -    0s\n",
      "     0     0 8025800.91    0   13 1.6995e+07 8025800.91  52.8%     -    0s\n",
      "     0     0 8029140.01    0   13 1.6995e+07 8029140.01  52.8%     -    0s\n",
      "H    0     0                    1.677400e+07 8029140.01  52.1%     -    0s\n",
      "     0     0 8029287.67    0   14 1.6774e+07 8029287.67  52.1%     -    0s\n",
      "     0     0 8030444.00    0   14 1.6774e+07 8030444.00  52.1%     -    0s\n",
      "     0     0 8030444.00    0   14 1.6774e+07 8030444.00  52.1%     -    0s\n",
      "     0     0 8032339.97    0   14 1.6774e+07 8032339.97  52.1%     -    0s\n",
      "     0     0 8032339.97    0   14 1.6774e+07 8032339.97  52.1%     -    0s\n",
      "     0     0 8034153.71    0   12 1.6774e+07 8034153.71  52.1%     -    0s\n",
      "H    0     0                    1.599041e+07 8034153.71  49.8%     -    0s\n",
      "     0     0 8034153.71    0   12 1.5990e+07 8034153.71  49.8%     -    0s\n",
      "     0     0 8034185.37    0   14 1.5990e+07 8034185.37  49.8%     -    0s\n",
      "     0     0 8034185.37    0   14 1.5990e+07 8034185.37  49.8%     -    0s\n",
      "     0     0 8034185.37    0   14 1.5990e+07 8034185.37  49.8%     -    0s\n",
      "     0     0 8034185.37    0   15 1.5990e+07 8034185.37  49.8%     -    0s\n",
      "     0     0 8034185.37    0   14 1.5990e+07 8034185.37  49.8%     -    0s\n",
      "     0     0 8034185.37    0   14 1.5990e+07 8034185.37  49.8%     -    0s\n",
      "H    0     0                    1.399213e+07 8034185.37  42.6%     -    0s\n",
      "     0     2 8034185.37    0   14 1.3992e+07 8034185.37  42.6%     -    0s\n",
      "H   12    12                    1.302977e+07 8067531.71  38.1%  84.2    0s\n",
      "H   16    12                    1.301980e+07 8067531.71  38.0%  85.9    0s\n",
      "H   17    16                    1.300306e+07 8067531.71  38.0%  83.2    0s\n",
      "H   18    16                    1.205106e+07 8067531.71  33.1%  79.3    0s\n",
      "H   21    21                    1.204966e+07 8067531.71  33.0%  76.7    0s\n",
      "H   26    20                    1.103592e+07 8067531.71  26.9%  77.5    0s\n",
      "H   30    20                    1.094841e+07 8067531.71  26.3%  75.8    0s\n",
      "H   33    20                    1.091467e+07 8067531.71  26.1%  74.7    0s\n",
      "*   35    19              10    1.088900e+07 8067531.71  25.9%  77.5    0s\n",
      "*   39    19              11    1.085500e+07 8067531.71  25.7%  80.2    0s\n",
      "*   40    19              10    1.085400e+07 8067531.71  25.7%  80.5    0s\n",
      "*  113    28               9    1.084100e+07 8253214.63  23.9%  85.5    0s\n",
      "\n",
      "Cutting planes:\n",
      "  Cover: 1\n",
      "  Implied bound: 2\n",
      "  MIR: 45\n",
      "  Flow cover: 85\n",
      "  Flow path: 19\n",
      "  Inf proof: 1\n",
      "\n",
      "Explored 559 nodes (39710 simplex iterations) in 1.42 seconds\n",
      "Thread count was 4 (of 4 available processors)\n",
      "\n",
      "Solution count 10: 1.0841e+07 1.0854e+07 1.0855e+07 ... 1.30031e+07\n",
      "\n",
      "Optimal solution found (tolerance 1.00e-04)\n",
      "Best objective 1.084100000000e+07, best bound 1.084100000000e+07, gap 0.0000%\n"
     ]
    },
    {
     "data": {
      "text/plain": [
       ":Optimal"
      ]
     },
     "execution_count": 65,
     "metadata": {},
     "output_type": "execute_result"
    }
   ],
   "source": [
    "solve(caldata)"
   ]
  },
  {
   "cell_type": "code",
   "execution_count": 66,
   "metadata": {},
   "outputs": [
    {
     "data": {
      "text/plain": [
       "22-element Array{Float64,1}:\n",
       "  1.0\n",
       "  1.0\n",
       "  1.0\n",
       "  0.0\n",
       "  1.0\n",
       "  1.0\n",
       "  1.0\n",
       " -0.0\n",
       "  0.0\n",
       "  1.0\n",
       "  0.0\n",
       " -0.0\n",
       " -0.0\n",
       " -0.0\n",
       "  1.0\n",
       " -0.0\n",
       "  1.0\n",
       "  0.0\n",
       "  1.0\n",
       "  0.0\n",
       " -0.0\n",
       " -0.0"
      ]
     },
     "execution_count": 66,
     "metadata": {},
     "output_type": "execute_result"
    }
   ],
   "source": [
    "af = getvalue(arcflows)\n",
    "adm_s = getvalue(adms)"
   ]
  },
  {
   "cell_type": "code",
   "execution_count": 68,
   "metadata": {},
   "outputs": [
    {
     "name": "stdout",
     "output_type": "stream",
     "text": [
      "hub_A_cycle_ABEC_ring_1\n",
      "hub_A_cycle_ABEC_ring_2\n",
      "hub_A_cycle_ABEC_ring_3\n",
      "hub_B_cycle_ABEC_ring_1\n",
      "hub_B_cycle_ABEC_ring_2\n",
      "hub_B_cycle_ABEC_ring_3\n",
      "hub_E_cycle_ABEC_ring_2\n",
      "hub_C_cycle_ABEC_ring_3\n",
      "hub_B_cycle_BDE_ring_1\n",
      "hub_D_cycle_BDE_ring_1\n"
     ]
    }
   ],
   "source": [
    "for (i,adm) in collect(enumerate(adm_s))\n",
    "    if adm > 0.0001\n",
    "        println(node_indices_to_descriptions[i])\n",
    "    end\n",
    "end\n",
    "\n",
    "\n",
    "\n",
    "# for i in 1:size(af)[1]\n",
    "#     arc = af[i,:]\n",
    "#     for j in 1:n_commodities\n",
    "#         if arc[j] > 0\n",
    "#             desc = arc_indices_to_descriptions[i]\n",
    "#             if contains(desc, \"hub_A_cycle_ABEC\")\n",
    "#                 println(desc, \": \", string(j))\n",
    "#             end\n",
    "#         end\n",
    "#     end\n",
    "# end"
   ]
  },
  {
   "cell_type": "markdown",
   "metadata": {},
   "source": [
    "nothing is switching rings"
   ]
  },
  {
   "cell_type": "code",
   "execution_count": null,
   "metadata": {
    "collapsed": true
   },
   "outputs": [],
   "source": []
  },
  {
   "cell_type": "code",
   "execution_count": null,
   "metadata": {
    "collapsed": true
   },
   "outputs": [],
   "source": []
  },
  {
   "cell_type": "markdown",
   "metadata": {
    "collapsed": true
   },
   "source": [
    "## TODO\n",
    "1. neaten code (trim and modularize)\n",
    "2. run on cluster\n",
    "3. run on caldata surface level"
   ]
  },
  {
   "cell_type": "code",
   "execution_count": null,
   "metadata": {
    "collapsed": true
   },
   "outputs": [],
   "source": []
  },
  {
   "cell_type": "code",
   "execution_count": null,
   "metadata": {
    "collapsed": true
   },
   "outputs": [],
   "source": []
  },
  {
   "cell_type": "code",
   "execution_count": null,
   "metadata": {
    "collapsed": true
   },
   "outputs": [],
   "source": []
  },
  {
   "cell_type": "code",
   "execution_count": null,
   "metadata": {
    "collapsed": true
   },
   "outputs": [],
   "source": []
  },
  {
   "cell_type": "code",
   "execution_count": null,
   "metadata": {
    "collapsed": true
   },
   "outputs": [],
   "source": []
  },
  {
   "cell_type": "code",
   "execution_count": null,
   "metadata": {
    "collapsed": true
   },
   "outputs": [],
   "source": [
    "has_bbdx = Dict(\"A\" => true,\n",
    "        \"B\" => true,\n",
    "        \"C\" => false,\n",
    "        \"D\" => true,\n",
    "        \"E\" => true,\n",
    "        \"F\" => false,\n",
    "        \"G\" => false,\n",
    "        \"H\" => true,\n",
    "        \"I\" => false,\n",
    "        \"J\" => true,\n",
    "        \"K\" => true,\n",
    "        \"L\" => true,\n",
    "        \"M\" => false,\n",
    "        \"N\" => true,\n",
    ");"
   ]
  },
  {
   "cell_type": "code",
   "execution_count": null,
   "metadata": {
    "collapsed": true
   },
   "outputs": [],
   "source": []
  },
  {
   "cell_type": "code",
   "execution_count": null,
   "metadata": {
    "collapsed": true
   },
   "outputs": [],
   "source": [
    "# for k in keys(arc_indices_to_descriptions)\n",
    "#     val = arc_indices_to_descriptions[k]\n",
    "#     if startswith(val, \"hub_N_cycle_KLNM\") #&& ! contains(val, \"K\")  && ! contains(val, \"H\")\n",
    "#         println(val)\n",
    "#     end\n",
    "# end"
   ]
  }
 ],
 "metadata": {
  "kernelspec": {
   "display_name": "Julia 0.6.0",
   "language": "julia",
   "name": "julia-0.6"
  },
  "language_info": {
   "file_extension": ".jl",
   "mimetype": "application/julia",
   "name": "julia",
   "version": "0.6.0"
  }
 },
 "nbformat": 4,
 "nbformat_minor": 2
}
