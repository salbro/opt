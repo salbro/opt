{
 "cells": [
  {
   "cell_type": "code",
   "execution_count": 1,
   "metadata": {
    "collapsed": true
   },
   "outputs": [],
   "source": [
    "using JuMP, Gurobi\n",
    "# Pkg.add(\"Combinatorics\")\n",
    "using Combinatorics"
   ]
  },
  {
   "cell_type": "code",
   "execution_count": 2,
   "metadata": {},
   "outputs": [
    {
     "data": {
      "text/html": [
       "33"
      ],
      "text/plain": [
       "33"
      ]
     },
     "execution_count": 2,
     "metadata": {},
     "output_type": "execute_result"
    }
   ],
   "source": [
    "caldata_demand = Dict(\"A\" => Dict(\"B\" => 38000, \"D\"=>7000, \"N\"=>27000, \"E\"=> 5000, \"J\" => 1000),\n",
    "    \"B\" => Dict(\"K\"=> 13000, \"D\"=>19000, \"C\"=> 1000, \"A\"=>42000, \"N\"=>31000, \"E\"=>7000,\"F\"=>6000, \"J\"=>9000,\n",
    "        \"H\"=>2000),\n",
    "    \"K\" => Dict(\"I\"=>1000, \"M\"=>2000, \"A\"=>11000, \"N\"=>32000, \"J\"=>14000, \"H\"=> 6000, \"L\"=>6000),\n",
    "    \"D\" => Dict(\"C\"=>1000, \"A\"=>12000, \"N\"=>1000, \"J\"=> 2000),\n",
    "    \"M\" => Dict(\"J\"=>1000),\n",
    "    \"C\" => Dict(\"A\"=>1000),\n",
    "    \"N\" => Dict(\"J\"=>20000, \"L\"=>11000),\n",
    "    \"E\" => Dict(\"G\"=>3000),\n",
    "    \"F\" => Dict(\"J\"=>2000),\n",
    "    \"J\" => Dict(\"H\"=>4000, \"L\"=>2000)\n",
    ");\n",
    "\n",
    "demands = Dict()\n",
    "for hub in keys(caldata_demand)\n",
    "    for other_hub in keys(caldata_demand[hub])\n",
    "        d = caldata_demand[hub][other_hub]\n",
    "        demands[hub*other_hub] = d\n",
    "    end\n",
    "end\n",
    "\n",
    "commodity_keys = collect(keys(demands))\n",
    "demand_vector = zeros(1:length(demands))\n",
    "# commodities = 1:length(demands)\n",
    "commodities = Dict()\n",
    "for (i, key) in enumerate(commodity_keys)\n",
    "    commodities[i] = key\n",
    "    demand_vector[i] = demands[key]\n",
    "end\n",
    "\n",
    "\n",
    "n_commodities = length(commodities)\n",
    "n_commodities"
   ]
  },
  {
   "cell_type": "code",
   "execution_count": 3,
   "metadata": {
    "collapsed": true
   },
   "outputs": [],
   "source": [
    "adm_cost_per_unit_data = 2;\n",
    "bbdx_cost_per_unit_data = 4; # plus 2 for each ADM\n",
    "bidirectional_arc_capacity = 24000; \n",
    "adm_capacity = 48000; # because each ADM is attached to two arcs\n",
    "adm_cost = 1000000;"
   ]
  },
  {
   "cell_type": "code",
   "execution_count": 4,
   "metadata": {
    "collapsed": true
   },
   "outputs": [],
   "source": [
    "function flowcost(hub1hub2)\n",
    "    if hub1hub2 in [\"KM\", \"MN\", \"NL\", \"LK\", \"JH\", \"HI\", \"IK\", \"KJ\",\n",
    "            \"BD\", \"DE\", \"EB\", \"BA\", \"AC\", \"CE\"]\n",
    "        return 1\n",
    "    elseif hub1hub2 in [\"LG\", \"FH\"]\n",
    "        return 2\n",
    "    elseif hub1hub2 in [\"GE\", \"EF\"]\n",
    "        return 3\n",
    "    else\n",
    "        return 0\n",
    "    end\n",
    "end;"
   ]
  },
  {
   "cell_type": "code",
   "execution_count": 5,
   "metadata": {
    "collapsed": true
   },
   "outputs": [],
   "source": [
    "function hasbbdx(hub)\n",
    "    return ! (hub == \"C\" || hub==\"F\" || hub ==\"G\" || hub==\"I\" || hub==\"M\")\n",
    "end;"
   ]
  },
  {
   "cell_type": "code",
   "execution_count": 6,
   "metadata": {
    "collapsed": true
   },
   "outputs": [],
   "source": [
    "type_0_nodes = [\"A\", \"B\", \"C\", \"D\", \"E\", \"F\", \"G\", \"H\", \"I\", \"J\", \"K\", \"L\", \"M\", \"N\"];\n",
    "cycles = Dict(\"ABEC\"=>4, \"BDE\"=>2, \"EGLKIHF\"=>3, \"HIKJ\"=>2, \"KLNM\"=>3);"
   ]
  },
  {
   "cell_type": "code",
   "execution_count": 7,
   "metadata": {
    "collapsed": true
   },
   "outputs": [],
   "source": [
    "n_type_1_nodes = 63\n",
    "n_type_0_nodes = 14\n",
    "\n",
    "node_indices_to_descriptions = Dict()\n",
    "index = 1\n",
    "# for t0node in type_0_nodes\n",
    "#     node_indices_to_descriptions[index] = \"hub_\" * t0node\n",
    "#     index += 1\n",
    "# end\n",
    "\n",
    "for cycle in keys(cycles)\n",
    "    for hub in cycle\n",
    "        for ring in 1:cycles[cycle]\n",
    "            node_indices_to_descriptions[index] = \"hub_\" * hub * \"_cycle_\" * cycle * \"_ring_\" * string(ring)\n",
    "            index += 1\n",
    "        end\n",
    "    end\n",
    "end"
   ]
  },
  {
   "cell_type": "code",
   "execution_count": 8,
   "metadata": {
    "collapsed": true
   },
   "outputs": [],
   "source": [
    "hubs_to_cycles = Dict()\n",
    "for cycle in keys(cycles)\n",
    "    for hub in cycle\n",
    "        if string(hub) in keys(hubs_to_cycles)\n",
    "            push!(hubs_to_cycles[string(hub)], cycle)\n",
    "        else\n",
    "            hubs_to_cycles[string(hub)] = [cycle]\n",
    "        end\n",
    "    end\n",
    "end\n",
    "hubs_to_cycles;"
   ]
  },
  {
   "cell_type": "code",
   "execution_count": 9,
   "metadata": {},
   "outputs": [
    {
     "data": {
      "text/html": [
       "63"
      ],
      "text/plain": [
       "63"
      ]
     },
     "execution_count": 9,
     "metadata": {},
     "output_type": "execute_result"
    }
   ],
   "source": [
    "num_nodes = length(node_indices_to_descriptions)"
   ]
  },
  {
   "cell_type": "code",
   "execution_count": 10,
   "metadata": {
    "collapsed": true
   },
   "outputs": [],
   "source": [
    "node_descriptions_to_indices = Dict()\n",
    "for k in keys(node_indices_to_descriptions)\n",
    "   node_descriptions_to_indices[node_indices_to_descriptions[k]] = k \n",
    "end"
   ]
  },
  {
   "cell_type": "code",
   "execution_count": 11,
   "metadata": {
    "collapsed": true
   },
   "outputs": [],
   "source": [
    "# node_descriptions_to_indices"
   ]
  },
  {
   "cell_type": "markdown",
   "metadata": {},
   "source": [
    "### Arcs"
   ]
  },
  {
   "cell_type": "code",
   "execution_count": 12,
   "metadata": {},
   "outputs": [
    {
     "name": "stdout",
     "output_type": "stream",
     "text": [
      "after type 0 and 1: 127\n",
      "after type 2: 253\n"
     ]
    },
    {
     "data": {
      "text/html": [
       "482"
      ],
      "text/plain": [
       "482"
      ]
     },
     "execution_count": 12,
     "metadata": {},
     "output_type": "execute_result"
    }
   ],
   "source": [
    "arc_indices_to_descriptions = Dict()\n",
    "arc_descriptions_to_indices = Dict()\n",
    "\n",
    "ind = 1\n",
    "# type 0 and type 1 arcs: from each hub to ring, and from each ring to the hub, respectively\n",
    "for hub in type_0_nodes\n",
    "    for cycle in hubs_to_cycles[hub]\n",
    "        for ring in 1:cycles[cycle]\n",
    "            # from city to ring\n",
    "            arc_indices_to_descriptions[ind] = \"hub_\" * hub * \"_to_hub_\" * hub * \"_cycle_\" *\n",
    "                                        cycle * \"_ring_\" * string(ring)\n",
    "            ind += 1\n",
    "            # from ring to city\n",
    "            arc_indices_to_descriptions[ind] = \"hub_\" * hub * \"_cycle_\" * cycle * \"_ring_\" * \n",
    "                                        string(ring) * \"_to_hub_\" * hub\n",
    "            ind += 1\n",
    "        end\n",
    "    end\n",
    "end\n",
    "\n",
    "\n",
    "println(\"after type 0 and 1: \"*string(ind))\n",
    "# type 2 arcs: one hub to the next along a ring (bidirectional, not symmetric)\n",
    "for cycle in keys(cycles)\n",
    "    for ring in 1:cycles[cycle]\n",
    "        for i in 1:(length(cycle)-1)\n",
    "            from_hub = cycle[i]\n",
    "            to_hub = cycle[i+1]\n",
    "            arc_indices_to_descriptions[ind] = \"hub_\" * string(from_hub) * \"_cycle_\" * cycle * \"_ring_\" * \n",
    "                    string(ring) * \"_to_hub_\" * to_hub * \"_cycle_\" * cycle * \"_ring_\" * string(ring)\n",
    "            ind += 1\n",
    "            arc_indices_to_descriptions[ind] = \"hub_\" * to_hub * \"_cycle_\" * cycle * \"_ring_\" * string(ring) * \n",
    "                                    \"_to_hub_\" * from_hub * \"_cycle_\" * cycle * \"_ring_\" * string(ring)\n",
    "            ind += 1\n",
    "        end\n",
    "        arc_indices_to_descriptions[ind] = \"hub_\" * cycle[1] * \"_cycle_\" * cycle * \"_ring_\" * string(ring) * \n",
    "                            \"_to_hub_\" * cycle[end] * \"_cycle_\" * cycle * \"_ring_\" * string(ring)\n",
    "        ind += 1\n",
    "        \n",
    "        arc_indices_to_descriptions[ind] = \"hub_\" * cycle[end] * \"_cycle_\" * cycle * \"_ring_\" * string(ring) * \n",
    "                        \"_to_hub_\" * cycle[1] * \"_cycle_\" * cycle * \"_ring_\" * string(ring)\n",
    "        ind += 1\n",
    "    end\n",
    "end\n",
    "\n",
    "\n",
    "println(\"after type 2: \"*string(ind))\n",
    "\n",
    "# type 3 arcs: These go from one ring to another at a hub that has a BBDX. \n",
    "# Any commodity may flow on these arcs, but only if an ADM is installed at the hub on both rings. \n",
    "for hub in type_0_nodes\n",
    "    if !hasbbdx(hub)\n",
    "        continue\n",
    "    end\n",
    "    \n",
    "    cycles_at_hub = hubs_to_cycles[hub]\n",
    "    for cycle_num in 1:length(cycles_at_hub)\n",
    "        # in-cycle transfers: across rings\n",
    "        for pair in collect(combinations(collect(1:cycles[cycles_at_hub[cycle_num]]), 2))\n",
    "            ring1, ring2 = pair\n",
    "#             println(hub * \": \" * string(cycle_num) * \": \"* string(ring1) * string(ring2))\n",
    "            arc_indices_to_descriptions[ind] = \"hub_\"*hub*\"_cycle_\"*cycles_at_hub[cycle_num]*\"_ring_\"*string(ring1) *\n",
    "                                                        \"_to_hub_\"*hub*\"_cycle_\"*cycles_at_hub[cycle_num]*\"_ring_\"*string(ring2)\n",
    "            ind += 1\n",
    "            arc_indices_to_descriptions[ind] = \"hub_\"*hub*\"_cycle_\"*cycles_at_hub[cycle_num]*\"_ring_\"*string(ring2) *\n",
    "                                                        \"_to_hub_\"*hub*\"_cycle_\"*cycles_at_hub[cycle_num]*\"_ring_\"*string(ring1)\n",
    "            ind += 1\n",
    "        end\n",
    "\n",
    "        # out-of-cycle transfers\n",
    "        for other_cycle_num in append!(collect(1:cycle_num-1), collect(cycle_num+1:length(cycles_at_hub)))\n",
    "            # for each ring in THIS cycle, make a link to the other ring in other cycles\n",
    "            for ring in 1:cycles[cycles_at_hub[cycle_num]]\n",
    "                for other_ring in 1:cycles[cycles_at_hub[other_cycle_num]]\n",
    "                    if cycle_num == other_cycle_num\n",
    "                        print(cycle_num)\n",
    "                    end\n",
    "\n",
    "                    arc_indices_to_descriptions[ind] = \"hub_\"*hub*\"_cycle_\"*cycles_at_hub[cycle_num]*\"_ring_\"*\n",
    "                                                        string(ring) * \"_to_hub_\"*hub*\"_cycle_\"*\n",
    "                                                        cycles_at_hub[other_cycle_num]*\"_ring_\"*string(other_ring)\n",
    "                    ind += 1\n",
    "                end\n",
    "            end\n",
    "        end\n",
    "    end\n",
    "end\n",
    "   \n",
    "\n",
    "\n",
    "for k in keys(arc_indices_to_descriptions)\n",
    "   arc_descriptions_to_indices[arc_indices_to_descriptions[k]] = k \n",
    "end\n",
    "\n",
    "num_arcs = length(arc_indices_to_descriptions)"
   ]
  },
  {
   "cell_type": "code",
   "execution_count": 13,
   "metadata": {},
   "outputs": [
    {
     "data": {
      "text/html": [
       "24000"
      ],
      "text/plain": [
       "24000"
      ]
     },
     "execution_count": 13,
     "metadata": {},
     "output_type": "execute_result"
    }
   ],
   "source": [
    "caldata = Model(solver=GurobiSolver())\n",
    "BIGM = 24000 # the max arc capacity"
   ]
  },
  {
   "cell_type": "markdown",
   "metadata": {},
   "source": [
    "### Decision Variables\n",
    "- how much data to send on each arc\n",
    "- where to locate the ADMs"
   ]
  },
  {
   "cell_type": "code",
   "execution_count": 14,
   "metadata": {},
   "outputs": [
    {
     "data": {
      "text/latex": [
       "$$ arcflows_{i,j} \\geq 0 \\quad\\forall i \\in \\{1,2,\\dots,481,482\\}, j \\in \\{1,2,\\dots,32,33\\} $$"
      ],
      "text/plain": [
       "482×33 Array{JuMP.Variable,2}:\n",
       " arcflows[1,1]    arcflows[1,2]    …  arcflows[1,32]    arcflows[1,33]  \n",
       " arcflows[2,1]    arcflows[2,2]       arcflows[2,32]    arcflows[2,33]  \n",
       " arcflows[3,1]    arcflows[3,2]       arcflows[3,32]    arcflows[3,33]  \n",
       " arcflows[4,1]    arcflows[4,2]       arcflows[4,32]    arcflows[4,33]  \n",
       " arcflows[5,1]    arcflows[5,2]       arcflows[5,32]    arcflows[5,33]  \n",
       " arcflows[6,1]    arcflows[6,2]    …  arcflows[6,32]    arcflows[6,33]  \n",
       " arcflows[7,1]    arcflows[7,2]       arcflows[7,32]    arcflows[7,33]  \n",
       " arcflows[8,1]    arcflows[8,2]       arcflows[8,32]    arcflows[8,33]  \n",
       " arcflows[9,1]    arcflows[9,2]       arcflows[9,32]    arcflows[9,33]  \n",
       " arcflows[10,1]   arcflows[10,2]      arcflows[10,32]   arcflows[10,33] \n",
       " arcflows[11,1]   arcflows[11,2]   …  arcflows[11,32]   arcflows[11,33] \n",
       " arcflows[12,1]   arcflows[12,2]      arcflows[12,32]   arcflows[12,33] \n",
       " arcflows[13,1]   arcflows[13,2]      arcflows[13,32]   arcflows[13,33] \n",
       " ⋮                                 ⋱                                    \n",
       " arcflows[471,1]  arcflows[471,2]  …  arcflows[471,32]  arcflows[471,33]\n",
       " arcflows[472,1]  arcflows[472,2]     arcflows[472,32]  arcflows[472,33]\n",
       " arcflows[473,1]  arcflows[473,2]     arcflows[473,32]  arcflows[473,33]\n",
       " arcflows[474,1]  arcflows[474,2]     arcflows[474,32]  arcflows[474,33]\n",
       " arcflows[475,1]  arcflows[475,2]     arcflows[475,32]  arcflows[475,33]\n",
       " arcflows[476,1]  arcflows[476,2]  …  arcflows[476,32]  arcflows[476,33]\n",
       " arcflows[477,1]  arcflows[477,2]     arcflows[477,32]  arcflows[477,33]\n",
       " arcflows[478,1]  arcflows[478,2]     arcflows[478,32]  arcflows[478,33]\n",
       " arcflows[479,1]  arcflows[479,2]     arcflows[479,32]  arcflows[479,33]\n",
       " arcflows[480,1]  arcflows[480,2]     arcflows[480,32]  arcflows[480,33]\n",
       " arcflows[481,1]  arcflows[481,2]  …  arcflows[481,32]  arcflows[481,33]\n",
       " arcflows[482,1]  arcflows[482,2]     arcflows[482,32]  arcflows[482,33]"
      ]
     },
     "execution_count": 14,
     "metadata": {},
     "output_type": "execute_result"
    }
   ],
   "source": [
    "@variable(caldata, arcflows[1:num_arcs, 1:n_commodities] >= 0)"
   ]
  },
  {
   "cell_type": "code",
   "execution_count": 15,
   "metadata": {},
   "outputs": [
    {
     "data": {
      "text/latex": [
       "$$ adms_{i} \\in \\{0,1\\} \\quad\\forall i \\in \\{1,2,\\dots,62,63\\} $$"
      ],
      "text/plain": [
       "63-element Array{JuMP.Variable,1}:\n",
       " adms[1] \n",
       " adms[2] \n",
       " adms[3] \n",
       " adms[4] \n",
       " adms[5] \n",
       " adms[6] \n",
       " adms[7] \n",
       " adms[8] \n",
       " adms[9] \n",
       " adms[10]\n",
       " adms[11]\n",
       " adms[12]\n",
       " adms[13]\n",
       " ⋮       \n",
       " adms[52]\n",
       " adms[53]\n",
       " adms[54]\n",
       " adms[55]\n",
       " adms[56]\n",
       " adms[57]\n",
       " adms[58]\n",
       " adms[59]\n",
       " adms[60]\n",
       " adms[61]\n",
       " adms[62]\n",
       " adms[63]"
      ]
     },
     "execution_count": 15,
     "metadata": {},
     "output_type": "execute_result"
    }
   ],
   "source": [
    "@variable(caldata, adms[1:n_type_1_nodes], Bin)"
   ]
  },
  {
   "cell_type": "markdown",
   "metadata": {},
   "source": [
    "### Constraints"
   ]
  },
  {
   "cell_type": "code",
   "execution_count": 16,
   "metadata": {
    "collapsed": true
   },
   "outputs": [],
   "source": [
    "# • The total bi-directional flow on an arc (the sum of the two directions) can be no more than the\n",
    "# bi-directional capacity.\n",
    "for cycle in keys(cycles)\n",
    "    for ring in 1:cycles[cycle]\n",
    "        for i in 1:(length(cycle)-1)\n",
    "            from_hub = cycle[i]\n",
    "            to_hub = cycle[i+1]\n",
    "            direction_1_key = arc_indices_to_descriptions[ind] = \"hub_\" * string(from_hub) * \"_cycle_\" * cycle * \"_ring_\" * \n",
    "                    string(ring) * \"_to_hub_\" * to_hub * \"_cycle_\" * cycle * \"_ring_\" * string(ring)\n",
    "            direction_2_key = arc_indices_to_descriptions[ind] = \"hub_\" * to_hub * \"_cycle_\" * cycle * \"_ring_\" * string(ring) * \n",
    "                                    \"_to_hub_\" * from_hub * \"_cycle_\" * cycle * \"_ring_\" * string(ring)\n",
    "            \n",
    "#             println(arc_descriptions_to_indices[direction_1_key], \": \", arc_descriptions_to_indices[direction_2_key])\n",
    "            @constraint(caldata, [i=1:length(arcflows)], \n",
    "                sum(arcflows[arc_descriptions_to_indices[direction_1_key],j]\n",
    "                + arcflows[arc_descriptions_to_indices[direction_2_key],j] for j in 1:n_commodities)\n",
    "                <= bidirectional_arc_capacity)\n",
    "            \n",
    "        end\n",
    "        \n",
    "        from_hub = cycle[1]\n",
    "        to_hub = cycle[end]\n",
    "        direction_1_key = arc_indices_to_descriptions[ind] = \"hub_\" * string(from_hub) * \"_cycle_\" * cycle * \"_ring_\" * \n",
    "                string(ring) * \"_to_hub_\" * to_hub * \"_cycle_\" * cycle * \"_ring_\" * string(ring)\n",
    "        direction_2_key = arc_indices_to_descriptions[ind] = \"hub_\" * to_hub * \"_cycle_\" * cycle * \"_ring_\" * string(ring) * \n",
    "                                \"_to_hub_\" * from_hub * \"_cycle_\" * cycle * \"_ring_\" * string(ring)\n",
    "\n",
    "        @constraint(caldata, [i=1:length(arcflows)], \n",
    "            sum(arcflows[arc_descriptions_to_indices[direction_1_key], j]\n",
    "            + arcflows[arc_descriptions_to_indices[direction_2_key], j] for j in 1:n_commodities)\n",
    "            <= bidirectional_arc_capacity)\n",
    "    end\n",
    "end\n",
    "\n",
    "# No commodities may flow on a Type 0 arc unless their destination is at that hub.\n",
    "for hub in type_0_nodes\n",
    "    for cycle in hubs_to_cycles[hub]\n",
    "        for ring in 1:cycles[cycle]\n",
    "            # from ring to city (type 0)\n",
    "            for j in 1:n_commodities\n",
    "                if ! endswith(commodities[j], hub)\n",
    "                    arc_key = \"hub_\" * hub * \"_cycle_\" * cycle * \"_ring_\" * string(ring) * \"_to_hub_\" * hub\n",
    "                    @constraint(caldata, arcflows[arc_descriptions_to_indices[arc_key],j] == 0)\n",
    "                end\n",
    "            end\n",
    "        end\n",
    "    end\n",
    "end\n",
    "\n",
    "# • No commodities may flow on a Type 1 arc unless their origin is at that hub.\n",
    "for hub in type_0_nodes\n",
    "    for cycle in hubs_to_cycles[hub]\n",
    "        for ring in 1:cycles[cycle]\n",
    "            # from ring to city (type 0)\n",
    "            node_descriptions_to_indices\n",
    "            for j in 1:n_commodities\n",
    "                if ! startswith(commodities[j], hub)\n",
    "                    arc_key = \"hub_\" * hub * \"_to_hub_\" * hub * \"_cycle_\" * cycle * \"_ring_\" * string(ring)\n",
    "                    @constraint(caldata, arcflows[arc_descriptions_to_indices[arc_key],j] == 0)\n",
    "                end\n",
    "            end\n",
    "        end\n",
    "    end\n",
    "end\n",
    "\n",
    "\n",
    "# No commodities may flow on a Type 0 (city to ring) arc unless an ADM is installed on that ring at that hub.\n",
    "# No commodities may flow on a Type 1 (ring to city) arc unless an ADM is installed on that ring at that hub.\n",
    "for hub in type_0_nodes\n",
    "    for cycle in hubs_to_cycles[hub]\n",
    "        for ring in 1:cycles[cycle]\n",
    "            type_0_arc_key = \"hub_\" * hub * \"_cycle_\" * cycle * \"_ring_\" * string(ring) * \"_to_hub_\" * hub\n",
    "            type_1_arc_key = \"hub_\" * hub * \"_to_hub_\" * hub * \"_cycle_\" * cycle * \"_ring_\" * string(ring)\n",
    "            node_key = \"hub_\" * hub * \"_cycle_\" * cycle * \"_ring_\" * string(ring)\n",
    "            for j in 1:n_commodities\n",
    "                \n",
    "                @constraint(caldata, arcflows[arc_descriptions_to_indices[type_0_arc_key],j]\n",
    "                    <= adms[node_descriptions_to_indices[node_key]]*BIGM)\n",
    "                \n",
    "                @constraint(caldata, arcflows[arc_descriptions_to_indices[type_1_arc_key],j]\n",
    "                    <= adms[node_descriptions_to_indices[node_key]]*BIGM)\n",
    "                \n",
    "            end\n",
    "        end\n",
    "    end\n",
    "end"
   ]
  },
  {
   "cell_type": "code",
   "execution_count": 17,
   "metadata": {
    "collapsed": true
   },
   "outputs": [],
   "source": [
    "# No commodities may flow on a Type 3 arc unless an ADM is installed at that hub on both rings.\n",
    "for hub in type_0_nodes\n",
    "    if !hasbbdx(hub)\n",
    "        continue\n",
    "    end\n",
    "    \n",
    "    cycles_at_hub = hubs_to_cycles[hub]\n",
    "    for cycle_num in 1:length(cycles_at_hub)\n",
    "        # in-cycle transfers: across rings\n",
    "        for pair in collect(combinations(collect(1:cycles[cycles_at_hub[cycle_num]]), 2))\n",
    "            ring1, ring2 = pair\n",
    "            arc_key_dir1 = \"hub_\"*hub*\"_cycle_\"*cycles_at_hub[cycle_num]*\"_ring_\"*string(ring1) *\n",
    "                                                        \"_to_hub_\"*hub*\"_cycle_\"*cycles_at_hub[cycle_num]*\"_ring_\"*string(ring2)\n",
    "            arc_key_dir2 = \"hub_\"*hub*\"_cycle_\"*cycles_at_hub[cycle_num]*\"_ring_\"*string(ring2) *\n",
    "                                                        \"_to_hub_\"*hub*\"_cycle_\"*cycles_at_hub[cycle_num]*\"_ring_\"*string(ring1)\n",
    "            \n",
    "            ring_key_one = \"hub_\"*hub*\"_cycle_\"*cycles_at_hub[cycle_num]*\"_ring_\"*string(ring2)\n",
    "            ring_key_two = \"hub_\"*hub*\"_cycle_\"*cycles_at_hub[cycle_num]*\"_ring_\"*string(ring1)\n",
    "            \n",
    "            for j in 1:n_commodities \n",
    "                @constraint(caldata, arcflows[arc_descriptions_to_indices[arc_key_dir1],j]\n",
    "                        <= adms[node_descriptions_to_indices[ring_key_one]]*BIGM)\n",
    "                @constraint(caldata, arcflows[arc_descriptions_to_indices[arc_key_dir1],j]\n",
    "                        <= adms[node_descriptions_to_indices[ring_key_two]]*BIGM)\n",
    "                \n",
    "                \n",
    "                @constraint(caldata, arcflows[arc_descriptions_to_indices[arc_key_dir2],j]\n",
    "                        <= adms[node_descriptions_to_indices[ring_key_one]]*BIGM)\n",
    "                @constraint(caldata, arcflows[arc_descriptions_to_indices[arc_key_dir2],j]\n",
    "                        <= adms[node_descriptions_to_indices[ring_key_two]]*BIGM)\n",
    "\n",
    "            end\n",
    "        \n",
    "        end\n",
    "\n",
    "        # out-of-cycle transfers\n",
    "        for other_cycle_num in append!(collect(1:cycle_num-1), collect(cycle_num+1:length(cycles_at_hub)))\n",
    "            # for each ring in THIS cycle, make a link to the other ring in other cycles\n",
    "            for ring in 1:cycles[cycles_at_hub[cycle_num]]\n",
    "                for other_ring in 1:cycles[cycles_at_hub[other_cycle_num]]                        \n",
    "                    ring_key_one = \"hub_\"*hub*\"_cycle_\"*cycles_at_hub[cycle_num]*\"_ring_\"*string(ring)\n",
    "                    ring_key_two = \"hub_\"*hub*\"_cycle_\"* cycles_at_hub[other_cycle_num]*\"_ring_\"*string(other_ring)\n",
    "                    arc_key = \"hub_\"*hub*\"_cycle_\"*cycles_at_hub[cycle_num]*\"_ring_\"*\n",
    "                                                        string(ring) * \"_to_hub_\"*hub*\"_cycle_\"*\n",
    "                                                        cycles_at_hub[other_cycle_num]*\"_ring_\"*string(other_ring)\n",
    "                    for j in 1:n_commodities\n",
    "                        @constraint(caldata, arcflows[arc_descriptions_to_indices[arc_key],j]\n",
    "                                    <= adms[node_descriptions_to_indices[ring_key_one]]*BIGM)\n",
    "                        \n",
    "                        @constraint(caldata, arcflows[arc_descriptions_to_indices[arc_key],j]\n",
    "                                    <= adms[node_descriptions_to_indices[ring_key_two]]*BIGM)\n",
    "                    end\n",
    "                end\n",
    "            end\n",
    "        end\n",
    "    end\n",
    "end"
   ]
  },
  {
   "cell_type": "code",
   "execution_count": 18,
   "metadata": {
    "collapsed": true
   },
   "outputs": [],
   "source": [
    "# The total flow of each commodity into its destination hub (i.e., into a Type 0 node on Type 0\n",
    "# arcs) must equal the demand for that commodity.\n",
    "for hub in type_0_nodes\n",
    "    for j in 1:n_commodities\n",
    "        # if the hub is the destination of the jth commodity\n",
    "        if endswith(commodities[j], hub)\n",
    "            # get the indices of the 0-arcs going into hub from all rings, from all cycles\n",
    "            arc_inds = []\n",
    "            for c in hubs_to_cycles[string(hub)]\n",
    "                for ring in 1:cycles[c]\n",
    "                    arc_desc = \"hub_\"*hub*\"_cycle_\"*c*\"_ring_\"*string(ring)*\"_to_hub_\"*hub\n",
    "                    arc_ind = arc_descriptions_to_indices[arc_desc]\n",
    "                    push!(arc_inds, arc_ind)\n",
    "                end\n",
    "            end\n",
    "            # the sum of all those arcs, for the jth commodity, should be equal to the demand of that commodity\n",
    "            @constraint(caldata, sum(arcflows[arc_ind, j] for arc_ind in arc_inds) == demands[commodities[j]])\n",
    "        end\n",
    "    end\n",
    "end"
   ]
  },
  {
   "cell_type": "code",
   "execution_count": 19,
   "metadata": {
    "collapsed": true
   },
   "outputs": [],
   "source": [
    "# • The total flow of each commodity out of its origin hub (i.e., out of a Type 0 node on Type 1\n",
    "# arcs) must equal the demand for that commodity.\n",
    "for hub in type_0_nodes\n",
    "    for j in 1:n_commodities\n",
    "        # if the hub is the ORIGIN of the jth commodity\n",
    "        if startswith(commodities[j], hub)\n",
    "            # get the indices of the 0-arcs going into hub from all rings, from all cycles\n",
    "            arc_inds = []\n",
    "            for c in hubs_to_cycles[string(hub)]\n",
    "                for ring in 1:cycles[c]\n",
    "                    arc_desc = \"hub_\" * hub * \"_to_hub_\" * hub * \"_cycle_\" * c * \"_ring_\" * string(ring)                    \n",
    "                    arc_ind = arc_descriptions_to_indices[arc_desc]\n",
    "                    push!(arc_inds, arc_ind)\n",
    "                end\n",
    "            end\n",
    "            # the sum of all those arcs, for the jth commodity, should be equal to the demand of that commodity\n",
    "            @constraint(caldata, sum(arcflows[arc_ind, j] for arc_ind in arc_inds) == demands[commodities[j]])\n",
    "        end\n",
    "    end\n",
    "end"
   ]
  },
  {
   "cell_type": "code",
   "execution_count": 20,
   "metadata": {
    "collapsed": true
   },
   "outputs": [],
   "source": [
    "# push!([[1 2 3]], [1 2 3])"
   ]
  },
  {
   "cell_type": "code",
   "execution_count": 21,
   "metadata": {
    "collapsed": true
   },
   "outputs": [],
   "source": [
    "# The total flow of each commodity into each Type 1 node must equal the total flow of that\n",
    "# commodity out of that Type 1 node\n",
    "inds_for_ring_switching_arcs = []\n",
    "inds_for_entering_or_leaving_network = []\n",
    "\n",
    "for (hub_i, hub) in collect(enumerate(type_0_nodes))\n",
    "    cycles_at_hub = hubs_to_cycles[hub]\n",
    "    for (cycle_i, cycle) in collect(enumerate(cycles_at_hub))\n",
    "        for ring in 1:cycles[cycle]\n",
    "            arc_inds_in, arc_inds_out = [], []\n",
    "            # get everything into it (type 1, 2, and 3 arc)\n",
    "            \n",
    "            # IN: type 1 arc (city to ring)\n",
    "            arc = \"hub_\" * hub * \"_to_hub_\" * hub * \"_cycle_\" * cycle * \"_ring_\" * string(ring)\n",
    "            push!(arc_inds_in, arc_descriptions_to_indices[arc])  \n",
    "            \n",
    "            push!(inds_for_entering_or_leaving_network, arc_descriptions_to_indices[arc])\n",
    "            \n",
    "            # OUT: type 0 arc (ring to city)\n",
    "            arc = \"hub_\" * hub * \"_cycle_\" * cycle *\"_ring_\" * string(ring) * \"_to_hub_\" * hub\n",
    "            push!(arc_inds_out, arc_descriptions_to_indices[arc]) \n",
    "            \n",
    "            push!(inds_for_entering_or_leaving_network, arc_descriptions_to_indices[arc])\n",
    "\n",
    "            \n",
    "            # type 2 arcs (from an adjacent hub, but on the same ring)\n",
    "            hub_index_in_cycle = search(cycle, hub)[1]\n",
    "            if hub == string(cycle[1]) ### C\n",
    "                neighboring_hub_left = cycle[end]\n",
    "            else\n",
    "                neighboring_hub_left = cycle[hub_index_in_cycle - 1]\n",
    "            end\n",
    "\n",
    "            \n",
    "            if hub == string(cycle[end])\n",
    "                neighboring_hub_right = cycle[1]\n",
    "            else\n",
    "                neighboring_hub_right = cycle[hub_index_in_cycle + 1]\n",
    "            end\n",
    "            \n",
    "            \n",
    "            # IN: type 2 arc, neighbor left\n",
    "            arc = \"hub_\" * neighboring_hub_left * \"_cycle_\" * cycle * \"_ring_\" * \n",
    "                    string(ring) * \"_to_hub_\" * hub * \"_cycle_\" * cycle *\n",
    "                    \"_ring_\" * string(ring)\n",
    "            \n",
    "            push!(arc_inds_in, arc_descriptions_to_indices[arc]) \n",
    "\n",
    "            # OUT: type 2 arc, neighbor left\n",
    "            arc = \"hub_\" * hub * \"_cycle_\" * cycle * \"_ring_\" * string(ring) * \"_to_hub_\" * neighboring_hub_left * \"_cycle_\" * cycle*\n",
    "                    \"_ring_\" * string(ring)\n",
    "            push!(arc_inds_out, arc_descriptions_to_indices[arc])\n",
    "            \n",
    "            # IN: type 2 arc, neighbor right\n",
    "            arc = \"hub_\" * neighboring_hub_right * \"_cycle_\" * cycle * \"_ring_\" * \n",
    "                    string(ring) * \"_to_hub_\" * hub * \"_cycle_\" * cycle *\n",
    "                    \"_ring_\" * string(ring)\n",
    "            push!(arc_inds_in, arc_descriptions_to_indices[arc])\n",
    "            \n",
    "            # OUT: type 2 arc, neighbor right\n",
    "            arc = \"hub_\" * hub * \"_cycle_\" * cycle * \"_ring_\" * \n",
    "                                string(ring) * \"_to_hub_\" * neighboring_hub_right * \"_cycle_\" * cycle *\n",
    "                                \"_ring_\" * string(ring)\n",
    "            push!(arc_inds_out, arc_descriptions_to_indices[arc])\n",
    "            \n",
    "\n",
    "            # type 3 arcs (switching rings) - only if BBDX installed\n",
    "            if hasbbdx(hub)\n",
    "                for other_ring_same_cycle in 1:cycles[cycle]\n",
    "                    if ring == other_ring_same_cycle\n",
    "                        continue\n",
    "                    end\n",
    "                    # IN: in-cycle in-transfers: across rings\n",
    "                    arc = \"hub_\"*hub*\"_cycle_\"*cycle*\"_ring_\"*string(other_ring_same_cycle) *\n",
    "                                                                \"_to_hub_\"*hub*\"_cycle_\"*cycle*\n",
    "                                                        \"_ring_\"*string(ring)\n",
    "                    push!(arc_inds_in, arc_descriptions_to_indices[arc])\n",
    "                    push!(inds_for_ring_switching_arcs, arc_descriptions_to_indices[arc])\n",
    "\n",
    "                    # OUT: in-cycle in-transfers: from this ring to other ones\n",
    "                    arc = \"hub_\"*hub*\"_cycle_\"*cycle*\"_ring_\"*string(ring) *\n",
    "                                                                \"_to_hub_\"*hub*\"_cycle_\"*cycle*\n",
    "                                                        \"_ring_\"*string(other_ring_same_cycle)\n",
    "                    push!(arc_inds_out, arc_descriptions_to_indices[arc])\n",
    "                    push!(inds_for_ring_switching_arcs, arc_descriptions_to_indices[arc])\n",
    "\n",
    "                end\n",
    "\n",
    "                # out-of-cycle in-transfers\n",
    "                for other_cycle_num in append!(collect(1:cycle_i-1), collect(cycle_i+1:length(cycles_at_hub)))\n",
    "                    for other_ring in 1:cycles[cycles_at_hub[other_cycle_num]]\n",
    "                        # IN: out-of-cycle in-transfers: across rings\n",
    "                        arc = \"hub_\"*hub*\"_cycle_\"*cycles_at_hub[other_cycle_num]*\"_ring_\"*\n",
    "                                                            string(other_ring) * \"_to_hub_\"*hub*\"_cycle_\"*\n",
    "                                                            cycle*\"_ring_\"*string(ring)\n",
    "                        push!(arc_inds_in, arc_descriptions_to_indices[arc])\n",
    "                        push!(inds_for_ring_switching_arcs, arc_descriptions_to_indices[arc])\n",
    "\n",
    "                        # OUT: out-of-cycle in-transfers: from this ring to other ones\n",
    "                        arc = \"hub_\"*hub*\"_cycle_\"*cycle*\"_ring_\"*\n",
    "                                                            string(ring) * \"_to_hub_\"*hub*\"_cycle_\"*\n",
    "                                                            cycles_at_hub[other_cycle_num]*\"_ring_\"*string(other_ring)\n",
    "\n",
    "                        push!(arc_inds_out, arc_descriptions_to_indices[arc])\n",
    "                        push!(inds_for_ring_switching_arcs, arc_descriptions_to_indices[arc])\n",
    "                    end\n",
    "                end\n",
    "\n",
    "                @constraint(caldata,[j=1:n_commodities], sum(arcflows[i,j] for i in arc_inds_in)\n",
    "                                                        == sum(arcflows[k,j] for k in arc_inds_out))\n",
    "            end\n",
    "        end\n",
    "    end\n",
    "end"
   ]
  },
  {
   "cell_type": "code",
   "execution_count": 22,
   "metadata": {},
   "outputs": [],
   "source": [
    "all_adm_transfer_inds = vcat(inds_for_ring_switching_arcs, inds_for_entering_or_leaving_network);"
   ]
  },
  {
   "cell_type": "code",
   "execution_count": 23,
   "metadata": {
    "collapsed": true
   },
   "outputs": [],
   "source": [
    "# the price of installing ADMs plus all the data that flows over them\n",
    "@objective(caldata, Min, 1e6*sum(adms[i] for i in 1:n_type_1_nodes) +\n",
    "                        2*sum(arcflows[i,j] for j in 1:n_commodities for i in all_adm_transfer_inds));"
   ]
  },
  {
   "cell_type": "code",
   "execution_count": 24,
   "metadata": {},
   "outputs": [
    {
     "name": "stdout",
     "output_type": "stream",
     "text": [
      "Academic license - for non-commercial use only\n",
      "Optimize a model with 1026825 rows, 15969 columns and 66204072 nonzeros\n",
      "Variable types: 15906 continuous, 63 integer (63 binary)\n",
      "Coefficient statistics:\n",
      "  Matrix range     [1e+00, 2e+04]\n",
      "  Objective range  [2e+00, 1e+06]\n",
      "  Bounds range     [1e+00, 1e+00]\n",
      "  RHS range        [1e+03, 4e+04]\n",
      "Presolve removed 7716 rows and 3858 columns (presolve time = 9s) ...\n",
      "Presolve removed 7731 rows and 3873 columns (presolve time = 12s) ...\n",
      "Presolve removed 7731 rows and 3873 columns (presolve time = 16s) ...\n",
      "Presolve removed 1009746 rows and 3873 columns (presolve time = 60s) ...\n",
      "Presolve removed 1009746 rows and 3873 columns (presolve time = 65s) ...\n",
      "Presolve removed 1021332 rows and 12334 columns\n",
      "Presolve time: 69.78s\n",
      "Presolved: 5493 rows, 3635 columns, 17910 nonzeros\n",
      "Variable types: 3614 continuous, 21 integer (21 binary)\n",
      "\n",
      "Root simplex log...\n",
      "\n",
      "Iteration    Objective       Primal Inf.    Dual Inf.      Time\n",
      "       0    1.5360000e+07   7.832812e+04   0.000000e+00     73s\n",
      "     647    2.1031304e+07   0.000000e+00   0.000000e+00     73s\n",
      "\n",
      "Root relaxation: objective 2.103130e+07, 647 iterations, 0.04 seconds\n",
      "\n",
      "    Nodes    |    Current Node    |     Objective Bounds      |     Work\n",
      " Expl Unexpl |  Obj  Depth IntInf | Incumbent    BestBd   Gap | It/Node Time\n",
      "\n",
      "     0     0 2.1031e+07    0    8          - 2.1031e+07      -     -   72s\n",
      "H    0     0                    2.545200e+07 2.1031e+07  17.4%     -   72s\n",
      "     0     0 2.1069e+07    0   14 2.5452e+07 2.1069e+07  17.2%     -   72s\n",
      "     0     0 2.1587e+07    0   12 2.5452e+07 2.1587e+07  15.2%     -   73s\n",
      "     0     0 2.1587e+07    0   12 2.5452e+07 2.1587e+07  15.2%     -   73s\n",
      "     0     0 2.1604e+07    0   13 2.5452e+07 2.1604e+07  15.1%     -   73s\n",
      "     0     0 2.1794e+07    0   18 2.5452e+07 2.1794e+07  14.4%     -   73s\n",
      "     0     0 2.1799e+07    0   15 2.5452e+07 2.1799e+07  14.4%     -   73s\n",
      "     0     0 2.1813e+07    0   17 2.5452e+07 2.1813e+07  14.3%     -   73s\n",
      "     0     0 2.1829e+07    0   19 2.5452e+07 2.1829e+07  14.2%     -   73s\n",
      "     0     0 2.1835e+07    0   19 2.5452e+07 2.1835e+07  14.2%     -   73s\n",
      "     0     0 2.1841e+07    0   19 2.5452e+07 2.1841e+07  14.2%     -   73s\n",
      "     0     0 2.1841e+07    0   19 2.5452e+07 2.1841e+07  14.2%     -   73s\n",
      "     0     0 2.1852e+07    0   18 2.5452e+07 2.1852e+07  14.1%     -   73s\n",
      "     0     0 2.1861e+07    0   18 2.5452e+07 2.1861e+07  14.1%     -   73s\n",
      "     0     0 2.1861e+07    0   16 2.5452e+07 2.1861e+07  14.1%     -   73s\n",
      "     0     0 2.1872e+07    0   19 2.5452e+07 2.1872e+07  14.1%     -   73s\n",
      "     0     0 2.1876e+07    0   19 2.5452e+07 2.1876e+07  14.1%     -   73s\n",
      "     0     0 2.1876e+07    0   19 2.5452e+07 2.1876e+07  14.1%     -   73s\n",
      "     0     0 2.1889e+07    0   18 2.5452e+07 2.1889e+07  14.0%     -   73s\n",
      "     0     0 2.1891e+07    0   18 2.5452e+07 2.1891e+07  14.0%     -   73s\n",
      "     0     0 2.1891e+07    0   18 2.5452e+07 2.1891e+07  14.0%     -   73s\n",
      "     0     0 2.1893e+07    0   17 2.5452e+07 2.1893e+07  14.0%     -   73s\n",
      "     0     0 2.1894e+07    0   17 2.5452e+07 2.1894e+07  14.0%     -   73s\n",
      "     0     0 2.1894e+07    0   15 2.5452e+07 2.1894e+07  14.0%     -   73s\n",
      "     0     0 2.1896e+07    0   15 2.5452e+07 2.1896e+07  14.0%     -   73s\n",
      "     0     0 2.1897e+07    0   17 2.5452e+07 2.1897e+07  14.0%     -   73s\n",
      "     0     0 2.1897e+07    0   17 2.5452e+07 2.1897e+07  14.0%     -   73s\n",
      "     0     0 2.1902e+07    0   15 2.5452e+07 2.1902e+07  13.9%     -   73s\n",
      "     0     0 2.1908e+07    0   18 2.5452e+07 2.1908e+07  13.9%     -   73s\n",
      "     0     0 2.1908e+07    0   16 2.5452e+07 2.1908e+07  13.9%     -   73s\n",
      "     0     0 2.1908e+07    0   17 2.5452e+07 2.1908e+07  13.9%     -   73s\n",
      "     0     0 2.1909e+07    0   17 2.5452e+07 2.1909e+07  13.9%     -   73s\n",
      "     0     0 2.1909e+07    0   17 2.5452e+07 2.1909e+07  13.9%     -   73s\n",
      "     0     0 2.1909e+07    0   17 2.5452e+07 2.1909e+07  13.9%     -   74s\n",
      "     0     0 2.1909e+07    0   17 2.5452e+07 2.1909e+07  13.9%     -   74s\n",
      "     0     0 2.1909e+07    0   18 2.5452e+07 2.1909e+07  13.9%     -   74s\n",
      "     0     0 2.1910e+07    0   15 2.5452e+07 2.1910e+07  13.9%     -   74s\n",
      "     0     0 2.1910e+07    0   17 2.5452e+07 2.1910e+07  13.9%     -   74s\n",
      "     0     0 2.1910e+07    0   16 2.5452e+07 2.1910e+07  13.9%     -   74s\n",
      "     0     0 2.1910e+07    0   16 2.5452e+07 2.1910e+07  13.9%     -   74s\n",
      "     0     2 2.1910e+07    0   15 2.5452e+07 2.1910e+07  13.9%     -   75s\n",
      "   305    18 2.4985e+07    8    6 2.5452e+07 2.3627e+07  7.17%   334   80s\n",
      "\n",
      "Cutting planes:\n",
      "  Cover: 2\n",
      "  Implied bound: 2\n",
      "  MIR: 129\n",
      "  Flow cover: 163\n",
      "  Flow path: 20\n",
      "  Inf proof: 1\n",
      "\n",
      "Explored 347 nodes (123181 simplex iterations) in 81.18 seconds\n",
      "Thread count was 4 (of 4 available processors)\n",
      "\n",
      "Solution count 1: 2.5452e+07 \n",
      "\n",
      "Optimal solution found (tolerance 1.00e-04)\n",
      "Best objective 2.545200000000e+07, best bound 2.545200000000e+07, gap 0.0000%\n"
     ]
    },
    {
     "data": {
      "text/plain": [
       ":Optimal"
      ]
     },
     "execution_count": 24,
     "metadata": {},
     "output_type": "execute_result"
    }
   ],
   "source": [
    "solve(caldata)"
   ]
  },
  {
   "cell_type": "markdown",
   "metadata": {
    "collapsed": true
   },
   "source": [
    "## TODO\n",
    "1. neaten code (trim and modularize)\n",
    "2. run on cluster\n",
    "3. run on caldata surface level"
   ]
  },
  {
   "cell_type": "code",
   "execution_count": null,
   "metadata": {
    "collapsed": true
   },
   "outputs": [],
   "source": []
  },
  {
   "cell_type": "code",
   "execution_count": null,
   "metadata": {
    "collapsed": true
   },
   "outputs": [],
   "source": []
  },
  {
   "cell_type": "code",
   "execution_count": null,
   "metadata": {
    "collapsed": true
   },
   "outputs": [],
   "source": []
  },
  {
   "cell_type": "code",
   "execution_count": null,
   "metadata": {
    "collapsed": true
   },
   "outputs": [],
   "source": []
  },
  {
   "cell_type": "code",
   "execution_count": null,
   "metadata": {
    "collapsed": true
   },
   "outputs": [],
   "source": []
  },
  {
   "cell_type": "code",
   "execution_count": null,
   "metadata": {
    "collapsed": true
   },
   "outputs": [],
   "source": [
    "has_bbdx = Dict(\"A\" => true,\n",
    "        \"B\" => true,\n",
    "        \"C\" => false,\n",
    "        \"D\" => true,\n",
    "        \"E\" => true,\n",
    "        \"F\" => false,\n",
    "        \"G\" => false,\n",
    "        \"H\" => true,\n",
    "        \"I\" => false,\n",
    "        \"J\" => true,\n",
    "        \"K\" => true,\n",
    "        \"L\" => true,\n",
    "        \"M\" => false,\n",
    "        \"N\" => true,\n",
    ");"
   ]
  },
  {
   "cell_type": "code",
   "execution_count": null,
   "metadata": {
    "collapsed": true
   },
   "outputs": [],
   "source": []
  },
  {
   "cell_type": "code",
   "execution_count": null,
   "metadata": {
    "collapsed": true
   },
   "outputs": [],
   "source": [
    "# for k in keys(arc_indices_to_descriptions)\n",
    "#     val = arc_indices_to_descriptions[k]\n",
    "#     if startswith(val, \"hub_N_cycle_KLNM\") #&& ! contains(val, \"K\")  && ! contains(val, \"H\")\n",
    "#         println(val)\n",
    "#     end\n",
    "# end"
   ]
  }
 ],
 "metadata": {
  "kernelspec": {
   "display_name": "Julia 0.6.0",
   "language": "julia",
   "name": "julia-0.6"
  },
  "language_info": {
   "file_extension": ".jl",
   "mimetype": "application/julia",
   "name": "julia",
   "version": "0.6.0"
  }
 },
 "nbformat": 4,
 "nbformat_minor": 2
}
